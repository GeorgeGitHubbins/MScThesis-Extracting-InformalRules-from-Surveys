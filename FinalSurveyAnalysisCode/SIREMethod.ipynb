{
 "cells": [
  {
   "cell_type": "markdown",
   "metadata": {},
   "source": [
    "This is a notebook that for a generalised script that reads Survey Data and produces Institutional Informal Rules\n",
    "\n",
    "This analysis requires two csv files:\n",
    "1. Survey overview file with the following content: \n",
    "\n",
    "\tColumns: \n",
    "\t- Question identifier (“Question_ID”)\n",
    "\t- Question text (“Question_Text”)\n",
    "\t- Response option text (“Response_Option”)\n",
    "\t- Response option numerical mapping (“Response_Value”)\n",
    "\t- What ADICO Component this question identifies (Attibute, Aim, Condition, Deontic) (“ADICO_Category”)\n",
    "\n",
    "\tRows: \n",
    "\t- a row for each response option. \n",
    "\t- if a question can be answered with any integer between one and five then that question takes up five rows.\n",
    "\n",
    "2. Survey Responses file with the following content\n",
    "\n",
    "\tColumns: \n",
    "\t- the questions identified by their matching \"Question_ID\"\n",
    "\n",
    "\tRows: \n",
    "\t- the responses identified by a \"Response_ID\" \n",
    "\t\n"
   ]
  },
  {
   "cell_type": "code",
   "execution_count": 7,
   "metadata": {},
   "outputs": [],
   "source": [
    "#Import Required Packages for the process\n",
    "import pandas as pd"
   ]
  },
  {
   "cell_type": "markdown",
   "metadata": {},
   "source": [
    "Loading the Survey Data:"
   ]
  },
  {
   "cell_type": "code",
   "execution_count": 48,
   "metadata": {},
   "outputs": [],
   "source": [
    "#Change these locations to your Overview and Responses csv files:\n",
    "Survey_Overview_Location = \"..\\Generate mock survey\\Mock_Survey_Overview.csv\"\n",
    "Survey_Responses_Location = \"..\\Generate mock survey\\mock_survey_responses.csv\"\n",
    "\n",
    "#Reads the files into a table\n",
    "Survey_Overview = pd.read_csv(Survey_Overview_Location)\n",
    "Survey_Responses = pd.read_csv(Survey_Responses_Location).set_index('Response_ID')\n",
    "\n",
    "Survey_Overview[\"Question_Response_ID\"] = Survey_Overview[\"Question_ID\"].astype(str) + \"_\" + Survey_Overview[\"Response_Value\"].astype(str)\n",
    "Survey_Overview.set_index('Question_Response_ID', inplace=True)"
   ]
  },
  {
   "cell_type": "code",
   "execution_count": 49,
   "metadata": {},
   "outputs": [
    {
     "data": {
      "text/html": [
       "<div>\n",
       "<style scoped>\n",
       "    .dataframe tbody tr th:only-of-type {\n",
       "        vertical-align: middle;\n",
       "    }\n",
       "\n",
       "    .dataframe tbody tr th {\n",
       "        vertical-align: top;\n",
       "    }\n",
       "\n",
       "    .dataframe thead th {\n",
       "        text-align: right;\n",
       "    }\n",
       "</style>\n",
       "<table border=\"1\" class=\"dataframe\">\n",
       "  <thead>\n",
       "    <tr style=\"text-align: right;\">\n",
       "      <th></th>\n",
       "      <th>Question_ID</th>\n",
       "      <th>Question_Text</th>\n",
       "      <th>Response_Option</th>\n",
       "      <th>Response_Value</th>\n",
       "      <th>ADICO_Category</th>\n",
       "    </tr>\n",
       "    <tr>\n",
       "      <th>Question_Response_ID</th>\n",
       "      <th></th>\n",
       "      <th></th>\n",
       "      <th></th>\n",
       "      <th></th>\n",
       "      <th></th>\n",
       "    </tr>\n",
       "  </thead>\n",
       "  <tbody>\n",
       "    <tr>\n",
       "      <th>Q1_1</th>\n",
       "      <td>Q1</td>\n",
       "      <td>What is your age?</td>\n",
       "      <td>Under 18</td>\n",
       "      <td>1</td>\n",
       "      <td>Attribute</td>\n",
       "    </tr>\n",
       "    <tr>\n",
       "      <th>Q1_2</th>\n",
       "      <td>Q1</td>\n",
       "      <td>What is your age?</td>\n",
       "      <td>18-35</td>\n",
       "      <td>2</td>\n",
       "      <td>Attribute</td>\n",
       "    </tr>\n",
       "    <tr>\n",
       "      <th>Q1_3</th>\n",
       "      <td>Q1</td>\n",
       "      <td>What is your age?</td>\n",
       "      <td>36-50</td>\n",
       "      <td>3</td>\n",
       "      <td>Attribute</td>\n",
       "    </tr>\n",
       "    <tr>\n",
       "      <th>Q1_4</th>\n",
       "      <td>Q1</td>\n",
       "      <td>What is your age?</td>\n",
       "      <td>51-65</td>\n",
       "      <td>4</td>\n",
       "      <td>Attribute</td>\n",
       "    </tr>\n",
       "    <tr>\n",
       "      <th>Q1_5</th>\n",
       "      <td>Q1</td>\n",
       "      <td>What is your age?</td>\n",
       "      <td>Over 65</td>\n",
       "      <td>5</td>\n",
       "      <td>Attribute</td>\n",
       "    </tr>\n",
       "    <tr>\n",
       "      <th>Q2_1</th>\n",
       "      <td>Q2</td>\n",
       "      <td>What is your gender?</td>\n",
       "      <td>Male</td>\n",
       "      <td>1</td>\n",
       "      <td>Attribute</td>\n",
       "    </tr>\n",
       "    <tr>\n",
       "      <th>Q2_2</th>\n",
       "      <td>Q2</td>\n",
       "      <td>What is your gender?</td>\n",
       "      <td>Female</td>\n",
       "      <td>2</td>\n",
       "      <td>Attribute</td>\n",
       "    </tr>\n",
       "    <tr>\n",
       "      <th>Q2_3</th>\n",
       "      <td>Q2</td>\n",
       "      <td>What is your gender?</td>\n",
       "      <td>Other</td>\n",
       "      <td>3</td>\n",
       "      <td>Attribute</td>\n",
       "    </tr>\n",
       "    <tr>\n",
       "      <th>Q3_1</th>\n",
       "      <td>Q3</td>\n",
       "      <td>Have you recycled in the past month?</td>\n",
       "      <td>Yes</td>\n",
       "      <td>1</td>\n",
       "      <td>Aim</td>\n",
       "    </tr>\n",
       "    <tr>\n",
       "      <th>Q3_2</th>\n",
       "      <td>Q3</td>\n",
       "      <td>Have you recycled in the past month?</td>\n",
       "      <td>No</td>\n",
       "      <td>2</td>\n",
       "      <td>Aim</td>\n",
       "    </tr>\n",
       "    <tr>\n",
       "      <th>Q4_1</th>\n",
       "      <td>Q4</td>\n",
       "      <td>Do you use public transportation frequently?</td>\n",
       "      <td>Yes</td>\n",
       "      <td>1</td>\n",
       "      <td>Aim</td>\n",
       "    </tr>\n",
       "    <tr>\n",
       "      <th>Q4_2</th>\n",
       "      <td>Q4</td>\n",
       "      <td>Do you use public transportation frequently?</td>\n",
       "      <td>No</td>\n",
       "      <td>2</td>\n",
       "      <td>Aim</td>\n",
       "    </tr>\n",
       "    <tr>\n",
       "      <th>Q5_1</th>\n",
       "      <td>Q5</td>\n",
       "      <td>Did you vote in the last election?</td>\n",
       "      <td>Yes</td>\n",
       "      <td>1</td>\n",
       "      <td>Aim</td>\n",
       "    </tr>\n",
       "    <tr>\n",
       "      <th>Q5_2</th>\n",
       "      <td>Q5</td>\n",
       "      <td>Did you vote in the last election?</td>\n",
       "      <td>No</td>\n",
       "      <td>2</td>\n",
       "      <td>Aim</td>\n",
       "    </tr>\n",
       "    <tr>\n",
       "      <th>Q6_1</th>\n",
       "      <td>Q6</td>\n",
       "      <td>Do you think recycling is easy?</td>\n",
       "      <td>Yes</td>\n",
       "      <td>1</td>\n",
       "      <td>Condition</td>\n",
       "    </tr>\n",
       "    <tr>\n",
       "      <th>Q6_2</th>\n",
       "      <td>Q6</td>\n",
       "      <td>Do you think recycling is easy?</td>\n",
       "      <td>No</td>\n",
       "      <td>2</td>\n",
       "      <td>Condition</td>\n",
       "    </tr>\n",
       "    <tr>\n",
       "      <th>Q7_1</th>\n",
       "      <td>Q7</td>\n",
       "      <td>Do you consider pulic transport to be affordable?</td>\n",
       "      <td>Very affordable</td>\n",
       "      <td>1</td>\n",
       "      <td>Condition</td>\n",
       "    </tr>\n",
       "    <tr>\n",
       "      <th>Q7_2</th>\n",
       "      <td>Q7</td>\n",
       "      <td>Do you consider pulic transport to be affordable?</td>\n",
       "      <td>Affordable</td>\n",
       "      <td>2</td>\n",
       "      <td>Condition</td>\n",
       "    </tr>\n",
       "    <tr>\n",
       "      <th>Q7_3</th>\n",
       "      <td>Q7</td>\n",
       "      <td>Do you consider pulic transport to be affordable?</td>\n",
       "      <td>Neutral</td>\n",
       "      <td>3</td>\n",
       "      <td>Condition</td>\n",
       "    </tr>\n",
       "    <tr>\n",
       "      <th>Q7_4</th>\n",
       "      <td>Q7</td>\n",
       "      <td>Do you consider pulic transport to be affordable?</td>\n",
       "      <td>Expensive</td>\n",
       "      <td>4</td>\n",
       "      <td>Condition</td>\n",
       "    </tr>\n",
       "    <tr>\n",
       "      <th>Q7_5</th>\n",
       "      <td>Q7</td>\n",
       "      <td>Do you consider pulic transport to be affordable?</td>\n",
       "      <td>Very expensive</td>\n",
       "      <td>5</td>\n",
       "      <td>Condition</td>\n",
       "    </tr>\n",
       "    <tr>\n",
       "      <th>Q8_1</th>\n",
       "      <td>Q8</td>\n",
       "      <td>Do you follow political news on Social media?</td>\n",
       "      <td>Yes</td>\n",
       "      <td>1</td>\n",
       "      <td>Condition</td>\n",
       "    </tr>\n",
       "    <tr>\n",
       "      <th>Q8_2</th>\n",
       "      <td>Q8</td>\n",
       "      <td>Do you follow political news on Social media?</td>\n",
       "      <td>No</td>\n",
       "      <td>2</td>\n",
       "      <td>Condition</td>\n",
       "    </tr>\n",
       "    <tr>\n",
       "      <th>Q9_1</th>\n",
       "      <td>Q9</td>\n",
       "      <td>Do you feel obligated to recycle?</td>\n",
       "      <td>Yes</td>\n",
       "      <td>1</td>\n",
       "      <td>Deontic</td>\n",
       "    </tr>\n",
       "    <tr>\n",
       "      <th>Q9_2</th>\n",
       "      <td>Q9</td>\n",
       "      <td>Do you feel obligated to recycle?</td>\n",
       "      <td>No</td>\n",
       "      <td>2</td>\n",
       "      <td>Deontic</td>\n",
       "    </tr>\n",
       "    <tr>\n",
       "      <th>Q10_1</th>\n",
       "      <td>Q10</td>\n",
       "      <td>Do your peers expect you to use public transpo...</td>\n",
       "      <td>Yes</td>\n",
       "      <td>1</td>\n",
       "      <td>Deontic</td>\n",
       "    </tr>\n",
       "    <tr>\n",
       "      <th>Q10_2</th>\n",
       "      <td>Q10</td>\n",
       "      <td>Do your peers expect you to use public transpo...</td>\n",
       "      <td>No</td>\n",
       "      <td>2</td>\n",
       "      <td>Deontic</td>\n",
       "    </tr>\n",
       "  </tbody>\n",
       "</table>\n",
       "</div>"
      ],
      "text/plain": [
       "                     Question_ID  \\\n",
       "Question_Response_ID               \n",
       "Q1_1                          Q1   \n",
       "Q1_2                          Q1   \n",
       "Q1_3                          Q1   \n",
       "Q1_4                          Q1   \n",
       "Q1_5                          Q1   \n",
       "Q2_1                          Q2   \n",
       "Q2_2                          Q2   \n",
       "Q2_3                          Q2   \n",
       "Q3_1                          Q3   \n",
       "Q3_2                          Q3   \n",
       "Q4_1                          Q4   \n",
       "Q4_2                          Q4   \n",
       "Q5_1                          Q5   \n",
       "Q5_2                          Q5   \n",
       "Q6_1                          Q6   \n",
       "Q6_2                          Q6   \n",
       "Q7_1                          Q7   \n",
       "Q7_2                          Q7   \n",
       "Q7_3                          Q7   \n",
       "Q7_4                          Q7   \n",
       "Q7_5                          Q7   \n",
       "Q8_1                          Q8   \n",
       "Q8_2                          Q8   \n",
       "Q9_1                          Q9   \n",
       "Q9_2                          Q9   \n",
       "Q10_1                        Q10   \n",
       "Q10_2                        Q10   \n",
       "\n",
       "                                                          Question_Text  \\\n",
       "Question_Response_ID                                                      \n",
       "Q1_1                                                  What is your age?   \n",
       "Q1_2                                                  What is your age?   \n",
       "Q1_3                                                  What is your age?   \n",
       "Q1_4                                                  What is your age?   \n",
       "Q1_5                                                  What is your age?   \n",
       "Q2_1                                               What is your gender?   \n",
       "Q2_2                                               What is your gender?   \n",
       "Q2_3                                               What is your gender?   \n",
       "Q3_1                               Have you recycled in the past month?   \n",
       "Q3_2                               Have you recycled in the past month?   \n",
       "Q4_1                       Do you use public transportation frequently?   \n",
       "Q4_2                       Do you use public transportation frequently?   \n",
       "Q5_1                                 Did you vote in the last election?   \n",
       "Q5_2                                 Did you vote in the last election?   \n",
       "Q6_1                                    Do you think recycling is easy?   \n",
       "Q6_2                                    Do you think recycling is easy?   \n",
       "Q7_1                  Do you consider pulic transport to be affordable?   \n",
       "Q7_2                  Do you consider pulic transport to be affordable?   \n",
       "Q7_3                  Do you consider pulic transport to be affordable?   \n",
       "Q7_4                  Do you consider pulic transport to be affordable?   \n",
       "Q7_5                  Do you consider pulic transport to be affordable?   \n",
       "Q8_1                      Do you follow political news on Social media?   \n",
       "Q8_2                      Do you follow political news on Social media?   \n",
       "Q9_1                                  Do you feel obligated to recycle?   \n",
       "Q9_2                                  Do you feel obligated to recycle?   \n",
       "Q10_1                 Do your peers expect you to use public transpo...   \n",
       "Q10_2                 Do your peers expect you to use public transpo...   \n",
       "\n",
       "                      Response_Option  Response_Value ADICO_Category  \n",
       "Question_Response_ID                                                  \n",
       "Q1_1                         Under 18               1      Attribute  \n",
       "Q1_2                            18-35               2      Attribute  \n",
       "Q1_3                            36-50               3      Attribute  \n",
       "Q1_4                            51-65               4      Attribute  \n",
       "Q1_5                          Over 65               5      Attribute  \n",
       "Q2_1                             Male               1      Attribute  \n",
       "Q2_2                           Female               2      Attribute  \n",
       "Q2_3                            Other               3      Attribute  \n",
       "Q3_1                              Yes               1            Aim  \n",
       "Q3_2                               No               2            Aim  \n",
       "Q4_1                              Yes               1            Aim  \n",
       "Q4_2                               No               2            Aim  \n",
       "Q5_1                              Yes               1            Aim  \n",
       "Q5_2                               No               2            Aim  \n",
       "Q6_1                              Yes               1      Condition  \n",
       "Q6_2                               No               2      Condition  \n",
       "Q7_1                  Very affordable               1      Condition  \n",
       "Q7_2                       Affordable               2      Condition  \n",
       "Q7_3                          Neutral               3      Condition  \n",
       "Q7_4                        Expensive               4      Condition  \n",
       "Q7_5                   Very expensive               5      Condition  \n",
       "Q8_1                              Yes               1      Condition  \n",
       "Q8_2                               No               2      Condition  \n",
       "Q9_1                              Yes               1        Deontic  \n",
       "Q9_2                               No               2        Deontic  \n",
       "Q10_1                             Yes               1        Deontic  \n",
       "Q10_2                              No               2        Deontic  "
      ]
     },
     "metadata": {},
     "output_type": "display_data"
    }
   ],
   "source": [
    "display(Survey_Overview)"
   ]
  },
  {
   "cell_type": "code",
   "execution_count": 50,
   "metadata": {},
   "outputs": [
    {
     "data": {
      "text/html": [
       "<div>\n",
       "<style scoped>\n",
       "    .dataframe tbody tr th:only-of-type {\n",
       "        vertical-align: middle;\n",
       "    }\n",
       "\n",
       "    .dataframe tbody tr th {\n",
       "        vertical-align: top;\n",
       "    }\n",
       "\n",
       "    .dataframe thead th {\n",
       "        text-align: right;\n",
       "    }\n",
       "</style>\n",
       "<table border=\"1\" class=\"dataframe\">\n",
       "  <thead>\n",
       "    <tr style=\"text-align: right;\">\n",
       "      <th></th>\n",
       "      <th>Q1</th>\n",
       "      <th>Q2</th>\n",
       "      <th>Q3</th>\n",
       "      <th>Q4</th>\n",
       "      <th>Q5</th>\n",
       "      <th>Q6</th>\n",
       "      <th>Q7</th>\n",
       "      <th>Q8</th>\n",
       "      <th>Q9</th>\n",
       "      <th>Q10</th>\n",
       "    </tr>\n",
       "    <tr>\n",
       "      <th>Response_ID</th>\n",
       "      <th></th>\n",
       "      <th></th>\n",
       "      <th></th>\n",
       "      <th></th>\n",
       "      <th></th>\n",
       "      <th></th>\n",
       "      <th></th>\n",
       "      <th></th>\n",
       "      <th></th>\n",
       "      <th></th>\n",
       "    </tr>\n",
       "  </thead>\n",
       "  <tbody>\n",
       "    <tr>\n",
       "      <th>1</th>\n",
       "      <td>5</td>\n",
       "      <td>3</td>\n",
       "      <td>2</td>\n",
       "      <td>2</td>\n",
       "      <td>2</td>\n",
       "      <td>1</td>\n",
       "      <td>2</td>\n",
       "      <td>1</td>\n",
       "      <td>2</td>\n",
       "      <td>1</td>\n",
       "    </tr>\n",
       "    <tr>\n",
       "      <th>2</th>\n",
       "      <td>3</td>\n",
       "      <td>1</td>\n",
       "      <td>1</td>\n",
       "      <td>1</td>\n",
       "      <td>1</td>\n",
       "      <td>1</td>\n",
       "      <td>4</td>\n",
       "      <td>2</td>\n",
       "      <td>1</td>\n",
       "      <td>1</td>\n",
       "    </tr>\n",
       "    <tr>\n",
       "      <th>3</th>\n",
       "      <td>1</td>\n",
       "      <td>3</td>\n",
       "      <td>1</td>\n",
       "      <td>2</td>\n",
       "      <td>1</td>\n",
       "      <td>1</td>\n",
       "      <td>1</td>\n",
       "      <td>2</td>\n",
       "      <td>1</td>\n",
       "      <td>1</td>\n",
       "    </tr>\n",
       "    <tr>\n",
       "      <th>4</th>\n",
       "      <td>1</td>\n",
       "      <td>1</td>\n",
       "      <td>2</td>\n",
       "      <td>2</td>\n",
       "      <td>1</td>\n",
       "      <td>2</td>\n",
       "      <td>4</td>\n",
       "      <td>1</td>\n",
       "      <td>1</td>\n",
       "      <td>2</td>\n",
       "    </tr>\n",
       "    <tr>\n",
       "      <th>5</th>\n",
       "      <td>4</td>\n",
       "      <td>1</td>\n",
       "      <td>2</td>\n",
       "      <td>2</td>\n",
       "      <td>2</td>\n",
       "      <td>1</td>\n",
       "      <td>1</td>\n",
       "      <td>2</td>\n",
       "      <td>2</td>\n",
       "      <td>1</td>\n",
       "    </tr>\n",
       "    <tr>\n",
       "      <th>...</th>\n",
       "      <td>...</td>\n",
       "      <td>...</td>\n",
       "      <td>...</td>\n",
       "      <td>...</td>\n",
       "      <td>...</td>\n",
       "      <td>...</td>\n",
       "      <td>...</td>\n",
       "      <td>...</td>\n",
       "      <td>...</td>\n",
       "      <td>...</td>\n",
       "    </tr>\n",
       "    <tr>\n",
       "      <th>96</th>\n",
       "      <td>1</td>\n",
       "      <td>3</td>\n",
       "      <td>1</td>\n",
       "      <td>1</td>\n",
       "      <td>1</td>\n",
       "      <td>2</td>\n",
       "      <td>2</td>\n",
       "      <td>2</td>\n",
       "      <td>2</td>\n",
       "      <td>1</td>\n",
       "    </tr>\n",
       "    <tr>\n",
       "      <th>97</th>\n",
       "      <td>1</td>\n",
       "      <td>3</td>\n",
       "      <td>2</td>\n",
       "      <td>1</td>\n",
       "      <td>2</td>\n",
       "      <td>1</td>\n",
       "      <td>5</td>\n",
       "      <td>2</td>\n",
       "      <td>2</td>\n",
       "      <td>2</td>\n",
       "    </tr>\n",
       "    <tr>\n",
       "      <th>98</th>\n",
       "      <td>1</td>\n",
       "      <td>2</td>\n",
       "      <td>1</td>\n",
       "      <td>2</td>\n",
       "      <td>2</td>\n",
       "      <td>2</td>\n",
       "      <td>1</td>\n",
       "      <td>2</td>\n",
       "      <td>2</td>\n",
       "      <td>2</td>\n",
       "    </tr>\n",
       "    <tr>\n",
       "      <th>99</th>\n",
       "      <td>4</td>\n",
       "      <td>1</td>\n",
       "      <td>2</td>\n",
       "      <td>1</td>\n",
       "      <td>2</td>\n",
       "      <td>2</td>\n",
       "      <td>4</td>\n",
       "      <td>2</td>\n",
       "      <td>2</td>\n",
       "      <td>2</td>\n",
       "    </tr>\n",
       "    <tr>\n",
       "      <th>100</th>\n",
       "      <td>2</td>\n",
       "      <td>3</td>\n",
       "      <td>1</td>\n",
       "      <td>2</td>\n",
       "      <td>2</td>\n",
       "      <td>2</td>\n",
       "      <td>3</td>\n",
       "      <td>2</td>\n",
       "      <td>1</td>\n",
       "      <td>2</td>\n",
       "    </tr>\n",
       "  </tbody>\n",
       "</table>\n",
       "<p>100 rows × 10 columns</p>\n",
       "</div>"
      ],
      "text/plain": [
       "             Q1  Q2  Q3  Q4  Q5  Q6  Q7  Q8  Q9  Q10\n",
       "Response_ID                                         \n",
       "1             5   3   2   2   2   1   2   1   2    1\n",
       "2             3   1   1   1   1   1   4   2   1    1\n",
       "3             1   3   1   2   1   1   1   2   1    1\n",
       "4             1   1   2   2   1   2   4   1   1    2\n",
       "5             4   1   2   2   2   1   1   2   2    1\n",
       "...          ..  ..  ..  ..  ..  ..  ..  ..  ..  ...\n",
       "96            1   3   1   1   1   2   2   2   2    1\n",
       "97            1   3   2   1   2   1   5   2   2    2\n",
       "98            1   2   1   2   2   2   1   2   2    2\n",
       "99            4   1   2   1   2   2   4   2   2    2\n",
       "100           2   3   1   2   2   2   3   2   1    2\n",
       "\n",
       "[100 rows x 10 columns]"
      ]
     },
     "metadata": {},
     "output_type": "display_data"
    }
   ],
   "source": [
    "display(Survey_Responses)"
   ]
  },
  {
   "cell_type": "markdown",
   "metadata": {},
   "source": [
    "Categorising and Selecting Questions "
   ]
  },
  {
   "cell_type": "code",
   "execution_count": 51,
   "metadata": {},
   "outputs": [],
   "source": [
    "#Make lists of questions that have been categorized into each ADICO component:\n",
    "attributes = Survey_Overview[Survey_Overview['ADICO_Category'] == \"Attribute\"][\"Question_ID\"].unique()\n",
    "aims = Survey_Overview[Survey_Overview['ADICO_Category'] == \"Aim\"][\"Question_ID\"].unique()\n",
    "conditions  = Survey_Overview[Survey_Overview['ADICO_Category'] == \"Condition\"][\"Question_ID\"].unique()\n",
    "deontics = Survey_Overview[Survey_Overview['ADICO_Category'] == \"Deontic\"][\"Question_ID\"].unique()\n",
    "\n",
    "#Alternatively you can make manual lists of the questions if you wish to select a subset or if the questions have not been categorised with ADICO_Category:\n",
    "aims = ['Q3', 'Q4', 'Q5']\n",
    "conditions = ['Q1', 'Q2', 'Q6', 'Q7', 'Q8'] #Added attribute questions to conditions\n",
    "deontics = ['Q9', 'Q10']"
   ]
  },
  {
   "cell_type": "markdown",
   "metadata": {},
   "source": [
    "Preprocessing and Codifying responses:"
   ]
  },
  {
   "cell_type": "code",
   "execution_count": 58,
   "metadata": {},
   "outputs": [],
   "source": [
    "adjusted_responses = Survey_Responses.copy().dropna(axis=1)\n",
    "adjusted_overview = Survey_Overview.copy().dropna(axis=1)\n",
    "\n",
    "#Prepare responses to be binary outcomes\n",
    "adjusted_responses.loc[adjusted_responses[\"Q1\"] >= 4, \"Q1\"] = 4 #sets all responses of age over 50 to 4\n",
    "adjusted_responses.loc[adjusted_responses[\"Q1\"] <= 3, \"Q1\"] = 3 #sets all responses of age under 50 to 3\n",
    "adjusted_overview.loc[(adjusted_overview[\"Question_ID\"] == \"Q1\") & (adjusted_overview[\"Response_Value\"] == 4), \"Response_Option\"] = \"Over 50\" #changes the text of the response for age option 4 to \"Over 50\"  \n",
    "adjusted_overview.loc[(adjusted_overview[\"Question_ID\"] == \"Q1\") & (adjusted_overview[\"Response_Value\"] == 3), \"Response_Option\"] = \"50 or younger\" #changes the text of the response for age option 3 to \"50 or younger\"\n",
    "\n",
    "adjusted_responses.loc[adjusted_responses[\"Q7\"] >= 4, \"Q7\"] = 4 #sets all responses that consider public transport price expensive to 4\n",
    "adjusted_responses.loc[adjusted_responses[\"Q7\"] <= 3, \"Q7\"] = 3 #sets all responses that do not consider public transport price expensive to 3\n",
    "adjusted_overview.loc[(adjusted_overview[\"Question_ID\"] == \"Q7\") & (adjusted_overview[\"Response_Value\"] == 4), \"Response_Option\"] = \"Expensive\"\n",
    "adjusted_overview.loc[(adjusted_overview[\"Question_ID\"] == \"Q7\") & (adjusted_overview[\"Response_Value\"] == 3), \"Response_Option\"] = \"not Expensive\"\n",
    "\n",
    "#Remove responses that might not be relevant: \n",
    "#Note: this is just an example on how to filter for a subset of the responses, ignoring \"other\" as a gender may be ethically problematic and misrepresent true patterns of behaviour\n",
    "adjusted_responses = adjusted_responses[adjusted_responses[\"Q2\"] != 3] #This removes all \"other\" responses to the question on gender\n",
    "\n",
    "#create a column that will later be rewritten as its respective IG syntax component, for now it will be the question and response option combined\n",
    "adjusted_overview['IG_Component'] = adjusted_overview['Question_Text'].astype(str) + \" Response: \" + adjusted_overview['Response_Option'].astype(str)"
   ]
  },
  {
   "cell_type": "markdown",
   "metadata": {},
   "source": [
    "Rewriting responses as their respective Adico component (Optional): "
   ]
  },
  {
   "cell_type": "code",
   "execution_count": 59,
   "metadata": {},
   "outputs": [],
   "source": [
    "from langchain_core.prompts import ChatPromptTemplate\n",
    "from langchain_groq import ChatGroq\n",
    "import json\n",
    "import sys\n",
    "# Add the parent directory to the path\n",
    "sys.path.append('..')\n",
    "# Now you can import the private values defined in config\n",
    "from config import groqkey #API keys should always be kept in a separate config file that you never share\n",
    "#Currently you can request an API from Groq and make api calls for free!"
   ]
  },
  {
   "cell_type": "code",
   "execution_count": 64,
   "metadata": {},
   "outputs": [],
   "source": [
    "#Ask Generative AI to rewrite the Json Approach\n",
    "#groq offers these models:\n",
    "models = [\"gemma-7b-it\", \"llama3-8b-8192\", \"mixtral-8x7b-32768\", \"llama3-70b-8192\"]\n",
    "# Define the LLM, models[1] represents \"llama3-8b-8192\"\n",
    "llm = ChatGroq(temperature=0, model=models[1], api_key=groqkey)\n",
    "\n",
    "#if you prefer to use openAI:\n",
    "# models = [\"gpt-3.5-turbo-0125\", \"gpt-4o\"]\n",
    "# llm = ChatOpenAI(temperature=0, model=models[1], api_key=OPENAI_Key)\n",
    "\n",
    "#You can experiment with the system instructions given to the ai, this section was excluded because I considered it redundant but it can always be added\n",
    "\"\"\"Here is an example: \"Attribute\": \"People\", \"Aim\":\"do this specific action\", \"Condition1\": \"if this condition is met\", \"Condition2\": \"and this condition is met\" \n",
    " I should be able to combine any output Attribute + Aim + Condition to form a full 3rd-person sentence that describes behaviour. \"\"\"\n",
    "\n",
    "#Function that gets the response from the LLM model and reads it into a table, the function takes a dataframe table of the survey overview, \n",
    "# preferably provide it with a subset of the survey overview of Aims, Conditions or Attributes and indicate this in the ADICO_component value.\n",
    "def ExampleCompletionFunction(questions, ADICO_component):\n",
    "    #create an empty table with the output column:\n",
    "    IG_components = pd.DataFrame(columns=[\"IG_Component\"])\n",
    "    \n",
    "    #Handle each question separetly to avoid confusion:\n",
    "    for question in questions['Question_ID'].unique():\n",
    "\n",
    "        # Prepares the provided overview table for the LLM \n",
    "        questionset = questions[questions['Question_ID'] == question][[\"Question_Text\",\"Response_Option\"]]\n",
    "        request = questionset.to_json(orient='index', index=True)        \n",
    "\n",
    "        #The general instructions for the LLM\n",
    "        system = f\"\"\"You are a json interpreter that transforms survey questions and responses into structured informal rule institutional statement components in 3rd person.\n",
    "                    The input json will have the following structure:\n",
    "                    Object Key = identifier of question and answer pair\n",
    "                    With nested values\n",
    "                    Question_Text: Text of the question being asked\n",
    "                    Response_Option = a response option for the question    \n",
    "\n",
    "                    You output json must have the following structure:\n",
    "                    Object Key = the same identifier of question and answer pair\n",
    "                    IG_Component = The rewritten question and answer \n",
    "\n",
    "                    Be concise but do not simplify or generalise the actions and conditions.  \n",
    "                    If a response option is just a number, relate it to the other options for that question \n",
    "                    Always produce a single JSON containing the same (number of) question identifies  as have been provided.\n",
    "\n",
    "                    In this instance the questions you have been provided are '{ADICO_component}'. Perform the text conversion below.\n",
    "                    \"\"\"     \n",
    "        #Additional information for the LLM that depends on the \"ADICO_component\" given:\n",
    "        system +=   {'Attributes':'demographic of the survey responses, should be written as \"People (rewritten question and answer)\" e.g. \"People who are male\"', #if \"ADICO_component\" is Attributes\n",
    "                    'Aims': \"action question and the response, should be written as an action that precedes the subject of the sentence  e.g. 'sell their house', do not include the subject of the sentence\", #if \"ADICO_component\" is Aims\n",
    "                    'Conditions': \"condition question and response, should be rewritten as 'if (rewritten question and answer)' in 3rd person ('they') e.g. 'if they feel they cannot rely on government support'\"}[ADICO_component] #if \"ADICO_component\" is Conditions \n",
    "\n",
    "        #Combines and formats the message and system instructions for the LLM  \n",
    "        human = \"{text}\"\n",
    "        prompt  = ChatPromptTemplate.from_messages([(\"system\", system), (\"human\", human)])\n",
    "\n",
    "        #Sends the request to the LLM to get a response\n",
    "        chain = prompt | llm\n",
    "        response = chain.invoke({\"text\": request})\n",
    "\n",
    "        # Extract the JSON string from the LLM response text\n",
    "        start = response.content.find(\"{\")\n",
    "        end = response.content.rfind(\"}\") + 1\n",
    "        json_str = response.content[start:end]\n",
    "\n",
    "        # Parse the JSON string into a Python dictionary\n",
    "        try:\n",
    "            data_dict = json.loads(json_str)        \n",
    "        except: \n",
    "            # Replace all instances of \"}}\" with \"}\", and remove any incorrect json formatting\n",
    "            json_str = json_str.replace(\"}}\", \"}\")+\"}\"\n",
    "            json_str = json_str.replace(\",\\n{\", \",\\n\")\n",
    "            json_str = json_str.replace(\",{\", \",\")\n",
    "\n",
    "            # Load the JSON string into a dictionary\n",
    "            data_dict = json.loads(json_str)\n",
    "        \n",
    "        # Read the processed response as a dataframe\n",
    "        IG_components = pd.concat([IG_components, pd.DataFrame.from_dict(data_dict, orient='index')])\n",
    "        \n",
    "    return IG_components\n",
    "\n",
    "\n",
    "\n",
    "# Update adjusted_overview with values from the LLM's response\n",
    "adjusted_overview.update(ExampleCompletionFunction(adjusted_overview[adjusted_overview['Question_ID'].isin(aims)], \"Aims\"))\n",
    "adjusted_overview.update(ExampleCompletionFunction(adjusted_overview[adjusted_overview['Question_ID'].isin(attributes)], \"Attributes\"))\n",
    "adjusted_overview.update(ExampleCompletionFunction(adjusted_overview[adjusted_overview['Question_ID'].isin(conditions)], \"Conditions\"))\n",
    "\n",
    "# for now we treat deontic example questions as Conditions as deontics have not yet been integrated in the final method\n",
    "adjusted_overview.update(ExampleCompletionFunction(adjusted_overview[adjusted_overview['Question_ID'].isin(deontics)], \"Conditions\")) "
   ]
  },
  {
   "cell_type": "code",
   "execution_count": 66,
   "metadata": {},
   "outputs": [
    {
     "data": {
      "text/html": [
       "<div>\n",
       "<style scoped>\n",
       "    .dataframe tbody tr th:only-of-type {\n",
       "        vertical-align: middle;\n",
       "    }\n",
       "\n",
       "    .dataframe tbody tr th {\n",
       "        vertical-align: top;\n",
       "    }\n",
       "\n",
       "    .dataframe thead th {\n",
       "        text-align: right;\n",
       "    }\n",
       "</style>\n",
       "<table border=\"1\" class=\"dataframe\">\n",
       "  <thead>\n",
       "    <tr style=\"text-align: right;\">\n",
       "      <th></th>\n",
       "      <th>Question_ID</th>\n",
       "      <th>Question_Text</th>\n",
       "      <th>Response_Option</th>\n",
       "      <th>Response_Value</th>\n",
       "      <th>ADICO_Category</th>\n",
       "      <th>IG_Component</th>\n",
       "    </tr>\n",
       "    <tr>\n",
       "      <th>Question_Response_ID</th>\n",
       "      <th></th>\n",
       "      <th></th>\n",
       "      <th></th>\n",
       "      <th></th>\n",
       "      <th></th>\n",
       "      <th></th>\n",
       "    </tr>\n",
       "  </thead>\n",
       "  <tbody>\n",
       "    <tr>\n",
       "      <th>Q1_1</th>\n",
       "      <td>Q1</td>\n",
       "      <td>What is your age?</td>\n",
       "      <td>Under 18</td>\n",
       "      <td>1</td>\n",
       "      <td>Attribute</td>\n",
       "      <td>if they are under 18</td>\n",
       "    </tr>\n",
       "    <tr>\n",
       "      <th>Q1_2</th>\n",
       "      <td>Q1</td>\n",
       "      <td>What is your age?</td>\n",
       "      <td>18-35</td>\n",
       "      <td>2</td>\n",
       "      <td>Attribute</td>\n",
       "      <td>if they are between 18 and 35</td>\n",
       "    </tr>\n",
       "    <tr>\n",
       "      <th>Q1_3</th>\n",
       "      <td>Q1</td>\n",
       "      <td>What is your age?</td>\n",
       "      <td>50 or younger</td>\n",
       "      <td>3</td>\n",
       "      <td>Attribute</td>\n",
       "      <td>if they are 50 or younger</td>\n",
       "    </tr>\n",
       "    <tr>\n",
       "      <th>Q1_4</th>\n",
       "      <td>Q1</td>\n",
       "      <td>What is your age?</td>\n",
       "      <td>Over 50</td>\n",
       "      <td>4</td>\n",
       "      <td>Attribute</td>\n",
       "      <td>if they are over 50</td>\n",
       "    </tr>\n",
       "    <tr>\n",
       "      <th>Q1_5</th>\n",
       "      <td>Q1</td>\n",
       "      <td>What is your age?</td>\n",
       "      <td>Over 65</td>\n",
       "      <td>5</td>\n",
       "      <td>Attribute</td>\n",
       "      <td>if they are over 65</td>\n",
       "    </tr>\n",
       "    <tr>\n",
       "      <th>Q2_1</th>\n",
       "      <td>Q2</td>\n",
       "      <td>What is your gender?</td>\n",
       "      <td>Male</td>\n",
       "      <td>1</td>\n",
       "      <td>Attribute</td>\n",
       "      <td>if they are male</td>\n",
       "    </tr>\n",
       "    <tr>\n",
       "      <th>Q2_2</th>\n",
       "      <td>Q2</td>\n",
       "      <td>What is your gender?</td>\n",
       "      <td>Female</td>\n",
       "      <td>2</td>\n",
       "      <td>Attribute</td>\n",
       "      <td>if they are female</td>\n",
       "    </tr>\n",
       "    <tr>\n",
       "      <th>Q2_3</th>\n",
       "      <td>Q2</td>\n",
       "      <td>What is your gender?</td>\n",
       "      <td>Other</td>\n",
       "      <td>3</td>\n",
       "      <td>Attribute</td>\n",
       "      <td>if they are other</td>\n",
       "    </tr>\n",
       "    <tr>\n",
       "      <th>Q3_1</th>\n",
       "      <td>Q3</td>\n",
       "      <td>Have you recycled in the past month?</td>\n",
       "      <td>Yes</td>\n",
       "      <td>1</td>\n",
       "      <td>Aim</td>\n",
       "      <td>recycle</td>\n",
       "    </tr>\n",
       "    <tr>\n",
       "      <th>Q3_2</th>\n",
       "      <td>Q3</td>\n",
       "      <td>Have you recycled in the past month?</td>\n",
       "      <td>No</td>\n",
       "      <td>2</td>\n",
       "      <td>Aim</td>\n",
       "      <td>not recycle</td>\n",
       "    </tr>\n",
       "    <tr>\n",
       "      <th>Q4_1</th>\n",
       "      <td>Q4</td>\n",
       "      <td>Do you use public transportation frequently?</td>\n",
       "      <td>Yes</td>\n",
       "      <td>1</td>\n",
       "      <td>Aim</td>\n",
       "      <td>use public transportation frequently</td>\n",
       "    </tr>\n",
       "    <tr>\n",
       "      <th>Q4_2</th>\n",
       "      <td>Q4</td>\n",
       "      <td>Do you use public transportation frequently?</td>\n",
       "      <td>No</td>\n",
       "      <td>2</td>\n",
       "      <td>Aim</td>\n",
       "      <td>not use public transportation frequently</td>\n",
       "    </tr>\n",
       "    <tr>\n",
       "      <th>Q5_1</th>\n",
       "      <td>Q5</td>\n",
       "      <td>Did you vote in the last election?</td>\n",
       "      <td>Yes</td>\n",
       "      <td>1</td>\n",
       "      <td>Aim</td>\n",
       "      <td>achieve their right to vote</td>\n",
       "    </tr>\n",
       "    <tr>\n",
       "      <th>Q5_2</th>\n",
       "      <td>Q5</td>\n",
       "      <td>Did you vote in the last election?</td>\n",
       "      <td>No</td>\n",
       "      <td>2</td>\n",
       "      <td>Aim</td>\n",
       "      <td>decline their right to vote</td>\n",
       "    </tr>\n",
       "    <tr>\n",
       "      <th>Q6_1</th>\n",
       "      <td>Q6</td>\n",
       "      <td>Do you think recycling is easy?</td>\n",
       "      <td>Yes</td>\n",
       "      <td>1</td>\n",
       "      <td>Condition</td>\n",
       "      <td>if they think recycling is easy</td>\n",
       "    </tr>\n",
       "    <tr>\n",
       "      <th>Q6_2</th>\n",
       "      <td>Q6</td>\n",
       "      <td>Do you think recycling is easy?</td>\n",
       "      <td>No</td>\n",
       "      <td>2</td>\n",
       "      <td>Condition</td>\n",
       "      <td>if they think recycling is not easy</td>\n",
       "    </tr>\n",
       "    <tr>\n",
       "      <th>Q7_1</th>\n",
       "      <td>Q7</td>\n",
       "      <td>Do you consider pulic transport to be affordable?</td>\n",
       "      <td>Very affordable</td>\n",
       "      <td>1</td>\n",
       "      <td>Condition</td>\n",
       "      <td>if they consider public transport to be very a...</td>\n",
       "    </tr>\n",
       "    <tr>\n",
       "      <th>Q7_2</th>\n",
       "      <td>Q7</td>\n",
       "      <td>Do you consider pulic transport to be affordable?</td>\n",
       "      <td>Affordable</td>\n",
       "      <td>2</td>\n",
       "      <td>Condition</td>\n",
       "      <td>if they consider public transport to be afford...</td>\n",
       "    </tr>\n",
       "    <tr>\n",
       "      <th>Q7_3</th>\n",
       "      <td>Q7</td>\n",
       "      <td>Do you consider pulic transport to be affordable?</td>\n",
       "      <td>not Expensive</td>\n",
       "      <td>3</td>\n",
       "      <td>Condition</td>\n",
       "      <td>if they consider public transport to be not ex...</td>\n",
       "    </tr>\n",
       "    <tr>\n",
       "      <th>Q7_4</th>\n",
       "      <td>Q7</td>\n",
       "      <td>Do you consider pulic transport to be affordable?</td>\n",
       "      <td>Expensive</td>\n",
       "      <td>4</td>\n",
       "      <td>Condition</td>\n",
       "      <td>if they consider public transport to be expensive</td>\n",
       "    </tr>\n",
       "    <tr>\n",
       "      <th>Q7_5</th>\n",
       "      <td>Q7</td>\n",
       "      <td>Do you consider pulic transport to be affordable?</td>\n",
       "      <td>Very expensive</td>\n",
       "      <td>5</td>\n",
       "      <td>Condition</td>\n",
       "      <td>if they consider public transport to be very e...</td>\n",
       "    </tr>\n",
       "    <tr>\n",
       "      <th>Q8_1</th>\n",
       "      <td>Q8</td>\n",
       "      <td>Do you follow political news on Social media?</td>\n",
       "      <td>Yes</td>\n",
       "      <td>1</td>\n",
       "      <td>Condition</td>\n",
       "      <td>if they follow political news on Social media</td>\n",
       "    </tr>\n",
       "    <tr>\n",
       "      <th>Q8_2</th>\n",
       "      <td>Q8</td>\n",
       "      <td>Do you follow political news on Social media?</td>\n",
       "      <td>No</td>\n",
       "      <td>2</td>\n",
       "      <td>Condition</td>\n",
       "      <td>if they do not follow political news on Social...</td>\n",
       "    </tr>\n",
       "    <tr>\n",
       "      <th>Q9_1</th>\n",
       "      <td>Q9</td>\n",
       "      <td>Do you feel obligated to recycle?</td>\n",
       "      <td>Yes</td>\n",
       "      <td>1</td>\n",
       "      <td>Deontic</td>\n",
       "      <td>if they feel obligated to recycle</td>\n",
       "    </tr>\n",
       "    <tr>\n",
       "      <th>Q9_2</th>\n",
       "      <td>Q9</td>\n",
       "      <td>Do you feel obligated to recycle?</td>\n",
       "      <td>No</td>\n",
       "      <td>2</td>\n",
       "      <td>Deontic</td>\n",
       "      <td>if they do not feel obligated to recycle</td>\n",
       "    </tr>\n",
       "    <tr>\n",
       "      <th>Q10_1</th>\n",
       "      <td>Q10</td>\n",
       "      <td>Do your peers expect you to use public transpo...</td>\n",
       "      <td>Yes</td>\n",
       "      <td>1</td>\n",
       "      <td>Deontic</td>\n",
       "      <td>if they feel their peers expect them to use pu...</td>\n",
       "    </tr>\n",
       "    <tr>\n",
       "      <th>Q10_2</th>\n",
       "      <td>Q10</td>\n",
       "      <td>Do your peers expect you to use public transpo...</td>\n",
       "      <td>No</td>\n",
       "      <td>2</td>\n",
       "      <td>Deontic</td>\n",
       "      <td>if they feel their peers do not expect them to...</td>\n",
       "    </tr>\n",
       "  </tbody>\n",
       "</table>\n",
       "</div>"
      ],
      "text/plain": [
       "                     Question_ID  \\\n",
       "Question_Response_ID               \n",
       "Q1_1                          Q1   \n",
       "Q1_2                          Q1   \n",
       "Q1_3                          Q1   \n",
       "Q1_4                          Q1   \n",
       "Q1_5                          Q1   \n",
       "Q2_1                          Q2   \n",
       "Q2_2                          Q2   \n",
       "Q2_3                          Q2   \n",
       "Q3_1                          Q3   \n",
       "Q3_2                          Q3   \n",
       "Q4_1                          Q4   \n",
       "Q4_2                          Q4   \n",
       "Q5_1                          Q5   \n",
       "Q5_2                          Q5   \n",
       "Q6_1                          Q6   \n",
       "Q6_2                          Q6   \n",
       "Q7_1                          Q7   \n",
       "Q7_2                          Q7   \n",
       "Q7_3                          Q7   \n",
       "Q7_4                          Q7   \n",
       "Q7_5                          Q7   \n",
       "Q8_1                          Q8   \n",
       "Q8_2                          Q8   \n",
       "Q9_1                          Q9   \n",
       "Q9_2                          Q9   \n",
       "Q10_1                        Q10   \n",
       "Q10_2                        Q10   \n",
       "\n",
       "                                                          Question_Text  \\\n",
       "Question_Response_ID                                                      \n",
       "Q1_1                                                  What is your age?   \n",
       "Q1_2                                                  What is your age?   \n",
       "Q1_3                                                  What is your age?   \n",
       "Q1_4                                                  What is your age?   \n",
       "Q1_5                                                  What is your age?   \n",
       "Q2_1                                               What is your gender?   \n",
       "Q2_2                                               What is your gender?   \n",
       "Q2_3                                               What is your gender?   \n",
       "Q3_1                               Have you recycled in the past month?   \n",
       "Q3_2                               Have you recycled in the past month?   \n",
       "Q4_1                       Do you use public transportation frequently?   \n",
       "Q4_2                       Do you use public transportation frequently?   \n",
       "Q5_1                                 Did you vote in the last election?   \n",
       "Q5_2                                 Did you vote in the last election?   \n",
       "Q6_1                                    Do you think recycling is easy?   \n",
       "Q6_2                                    Do you think recycling is easy?   \n",
       "Q7_1                  Do you consider pulic transport to be affordable?   \n",
       "Q7_2                  Do you consider pulic transport to be affordable?   \n",
       "Q7_3                  Do you consider pulic transport to be affordable?   \n",
       "Q7_4                  Do you consider pulic transport to be affordable?   \n",
       "Q7_5                  Do you consider pulic transport to be affordable?   \n",
       "Q8_1                      Do you follow political news on Social media?   \n",
       "Q8_2                      Do you follow political news on Social media?   \n",
       "Q9_1                                  Do you feel obligated to recycle?   \n",
       "Q9_2                                  Do you feel obligated to recycle?   \n",
       "Q10_1                 Do your peers expect you to use public transpo...   \n",
       "Q10_2                 Do your peers expect you to use public transpo...   \n",
       "\n",
       "                      Response_Option  Response_Value ADICO_Category  \\\n",
       "Question_Response_ID                                                   \n",
       "Q1_1                         Under 18               1      Attribute   \n",
       "Q1_2                            18-35               2      Attribute   \n",
       "Q1_3                    50 or younger               3      Attribute   \n",
       "Q1_4                          Over 50               4      Attribute   \n",
       "Q1_5                          Over 65               5      Attribute   \n",
       "Q2_1                             Male               1      Attribute   \n",
       "Q2_2                           Female               2      Attribute   \n",
       "Q2_3                            Other               3      Attribute   \n",
       "Q3_1                              Yes               1            Aim   \n",
       "Q3_2                               No               2            Aim   \n",
       "Q4_1                              Yes               1            Aim   \n",
       "Q4_2                               No               2            Aim   \n",
       "Q5_1                              Yes               1            Aim   \n",
       "Q5_2                               No               2            Aim   \n",
       "Q6_1                              Yes               1      Condition   \n",
       "Q6_2                               No               2      Condition   \n",
       "Q7_1                  Very affordable               1      Condition   \n",
       "Q7_2                       Affordable               2      Condition   \n",
       "Q7_3                    not Expensive               3      Condition   \n",
       "Q7_4                        Expensive               4      Condition   \n",
       "Q7_5                   Very expensive               5      Condition   \n",
       "Q8_1                              Yes               1      Condition   \n",
       "Q8_2                               No               2      Condition   \n",
       "Q9_1                              Yes               1        Deontic   \n",
       "Q9_2                               No               2        Deontic   \n",
       "Q10_1                             Yes               1        Deontic   \n",
       "Q10_2                              No               2        Deontic   \n",
       "\n",
       "                                                           IG_Component  \n",
       "Question_Response_ID                                                     \n",
       "Q1_1                                               if they are under 18  \n",
       "Q1_2                                      if they are between 18 and 35  \n",
       "Q1_3                                          if they are 50 or younger  \n",
       "Q1_4                                                if they are over 50  \n",
       "Q1_5                                                if they are over 65  \n",
       "Q2_1                                                   if they are male  \n",
       "Q2_2                                                 if they are female  \n",
       "Q2_3                                                  if they are other  \n",
       "Q3_1                                                            recycle  \n",
       "Q3_2                                                        not recycle  \n",
       "Q4_1                               use public transportation frequently  \n",
       "Q4_2                           not use public transportation frequently  \n",
       "Q5_1                                        achieve their right to vote  \n",
       "Q5_2                                        decline their right to vote  \n",
       "Q6_1                                    if they think recycling is easy  \n",
       "Q6_2                                if they think recycling is not easy  \n",
       "Q7_1                  if they consider public transport to be very a...  \n",
       "Q7_2                  if they consider public transport to be afford...  \n",
       "Q7_3                  if they consider public transport to be not ex...  \n",
       "Q7_4                  if they consider public transport to be expensive  \n",
       "Q7_5                  if they consider public transport to be very e...  \n",
       "Q8_1                      if they follow political news on Social media  \n",
       "Q8_2                  if they do not follow political news on Social...  \n",
       "Q9_1                                  if they feel obligated to recycle  \n",
       "Q9_2                           if they do not feel obligated to recycle  \n",
       "Q10_1                 if they feel their peers expect them to use pu...  \n",
       "Q10_2                 if they feel their peers do not expect them to...  "
      ]
     },
     "execution_count": 66,
     "metadata": {},
     "output_type": "execute_result"
    }
   ],
   "source": [
    "#View the updated table and see IG_component:\n",
    "adjusted_overview\n",
    "#note that Attrubutes have been treated as conditions because they were included in the list of conditions"
   ]
  },
  {
   "cell_type": "markdown",
   "metadata": {},
   "source": [
    "Parallel set diagrams"
   ]
  },
  {
   "cell_type": "code",
   "execution_count": 67,
   "metadata": {},
   "outputs": [],
   "source": [
    "#Import the required package\n",
    "import plotly.express as px"
   ]
  },
  {
   "cell_type": "code",
   "execution_count": 80,
   "metadata": {},
   "outputs": [
    {
     "data": {
      "application/vnd.plotly.v1+json": {
       "config": {
        "plotlyServerURL": "https://plot.ly"
       },
       "data": [
        {
         "dimensions": [
          {
           "label": "Frequent use?",
           "values": [
            "Does (35)",
            "Does not (26)",
            "Does not (26)",
            "Does (35)",
            "Does (35)",
            "Does (35)",
            "Does not (26)",
            "Does not (26)",
            "Does not (26)",
            "Does not (26)",
            "Does not (26)",
            "Does (35)",
            "Does not (26)",
            "Does not (26)",
            "Does not (26)",
            "Does not (26)",
            "Does (35)",
            "Does (35)",
            "Does (35)",
            "Does (35)",
            "Does not (26)",
            "Does not (26)",
            "Does not (26)",
            "Does not (26)",
            "Does not (26)",
            "Does (35)",
            "Does not (26)",
            "Does (35)",
            "Does not (26)",
            "Does (35)",
            "Does not (26)",
            "Does (35)",
            "Does (35)",
            "Does (35)",
            "Does (35)",
            "Does (35)",
            "Does (35)",
            "Does (35)",
            "Does (35)",
            "Does not (26)",
            "Does not (26)",
            "Does (35)",
            "Does (35)",
            "Does (35)",
            "Does (35)",
            "Does (35)",
            "Does (35)",
            "Does (35)",
            "Does not (26)",
            "Does not (26)",
            "Does not (26)",
            "Does (35)",
            "Does (35)",
            "Does not (26)",
            "Does (35)",
            "Does (35)",
            "Does (35)",
            "Does (35)",
            "Does (35)",
            "Does not (26)",
            "Does (35)"
           ]
          },
          {
           "label": "Age?",
           "values": [
            "50 or younger (40)",
            "50 or younger (40)",
            "Over 50 (21)",
            "50 or younger (40)",
            "Over 50 (21)",
            "50 or younger (40)",
            "Over 50 (21)",
            "Over 50 (21)",
            "50 or younger (40)",
            "50 or younger (40)",
            "50 or younger (40)",
            "50 or younger (40)",
            "50 or younger (40)",
            "Over 50 (21)",
            "50 or younger (40)",
            "50 or younger (40)",
            "50 or younger (40)",
            "50 or younger (40)",
            "50 or younger (40)",
            "50 or younger (40)",
            "50 or younger (40)",
            "50 or younger (40)",
            "Over 50 (21)",
            "Over 50 (21)",
            "50 or younger (40)",
            "50 or younger (40)",
            "50 or younger (40)",
            "50 or younger (40)",
            "Over 50 (21)",
            "50 or younger (40)",
            "50 or younger (40)",
            "Over 50 (21)",
            "50 or younger (40)",
            "Over 50 (21)",
            "50 or younger (40)",
            "50 or younger (40)",
            "50 or younger (40)",
            "Over 50 (21)",
            "50 or younger (40)",
            "50 or younger (40)",
            "50 or younger (40)",
            "50 or younger (40)",
            "50 or younger (40)",
            "Over 50 (21)",
            "50 or younger (40)",
            "Over 50 (21)",
            "Over 50 (21)",
            "Over 50 (21)",
            "50 or younger (40)",
            "50 or younger (40)",
            "Over 50 (21)",
            "Over 50 (21)",
            "50 or younger (40)",
            "50 or younger (40)",
            "50 or younger (40)",
            "Over 50 (21)",
            "50 or younger (40)",
            "Over 50 (21)",
            "Over 50 (21)",
            "50 or younger (40)",
            "Over 50 (21)"
           ]
          },
          {
           "label": "Percieved Price",
           "values": [
            "Expensive (22)",
            "Expensive (22)",
            "not Expensive (39)",
            "not Expensive (39)",
            "not Expensive (39)",
            "not Expensive (39)",
            "not Expensive (39)",
            "not Expensive (39)",
            "not Expensive (39)",
            "Expensive (22)",
            "not Expensive (39)",
            "not Expensive (39)",
            "not Expensive (39)",
            "Expensive (22)",
            "Expensive (22)",
            "Expensive (22)",
            "Expensive (22)",
            "not Expensive (39)",
            "not Expensive (39)",
            "not Expensive (39)",
            "Expensive (22)",
            "Expensive (22)",
            "not Expensive (39)",
            "not Expensive (39)",
            "Expensive (22)",
            "Expensive (22)",
            "Expensive (22)",
            "not Expensive (39)",
            "Expensive (22)",
            "Expensive (22)",
            "not Expensive (39)",
            "not Expensive (39)",
            "not Expensive (39)",
            "not Expensive (39)",
            "not Expensive (39)",
            "not Expensive (39)",
            "not Expensive (39)",
            "not Expensive (39)",
            "not Expensive (39)",
            "Expensive (22)",
            "not Expensive (39)",
            "Expensive (22)",
            "not Expensive (39)",
            "not Expensive (39)",
            "not Expensive (39)",
            "not Expensive (39)",
            "not Expensive (39)",
            "not Expensive (39)",
            "not Expensive (39)",
            "Expensive (22)",
            "not Expensive (39)",
            "Expensive (22)",
            "not Expensive (39)",
            "not Expensive (39)",
            "Expensive (22)",
            "not Expensive (39)",
            "not Expensive (39)",
            "Expensive (22)",
            "Expensive (22)",
            "not Expensive (39)",
            "Expensive (22)"
           ]
          },
          {
           "label": "Peer pressure to use?",
           "values": [
            "Yes (29)",
            "No (32)",
            "Yes (29)",
            "No (32)",
            "No (32)",
            "No (32)",
            "Yes (29)",
            "No (32)",
            "Yes (29)",
            "No (32)",
            "Yes (29)",
            "Yes (29)",
            "Yes (29)",
            "Yes (29)",
            "No (32)",
            "Yes (29)",
            "Yes (29)",
            "No (32)",
            "No (32)",
            "Yes (29)",
            "Yes (29)",
            "Yes (29)",
            "No (32)",
            "No (32)",
            "Yes (29)",
            "Yes (29)",
            "No (32)",
            "No (32)",
            "Yes (29)",
            "No (32)",
            "Yes (29)",
            "No (32)",
            "No (32)",
            "No (32)",
            "No (32)",
            "No (32)",
            "Yes (29)",
            "No (32)",
            "No (32)",
            "No (32)",
            "Yes (29)",
            "Yes (29)",
            "Yes (29)",
            "Yes (29)",
            "No (32)",
            "No (32)",
            "Yes (29)",
            "No (32)",
            "No (32)",
            "No (32)",
            "Yes (29)",
            "Yes (29)",
            "No (32)",
            "Yes (29)",
            "Yes (29)",
            "Yes (29)",
            "Yes (29)",
            "No (32)",
            "No (32)",
            "No (32)",
            "No (32)"
           ]
          }
         ],
         "domain": {
          "x": [
           0,
           1
          ],
          "y": [
           0,
           1
          ]
         },
         "line": {
          "color": [
           "#00a6d6",
           "#a7a7a7",
           "#a7a7a7",
           "#00a6d6",
           "#00a6d6",
           "#00a6d6",
           "#a7a7a7",
           "#a7a7a7",
           "#a7a7a7",
           "#a7a7a7",
           "#a7a7a7",
           "#00a6d6",
           "#a7a7a7",
           "#a7a7a7",
           "#a7a7a7",
           "#a7a7a7",
           "#00a6d6",
           "#00a6d6",
           "#00a6d6",
           "#00a6d6",
           "#a7a7a7",
           "#a7a7a7",
           "#a7a7a7",
           "#a7a7a7",
           "#a7a7a7",
           "#00a6d6",
           "#a7a7a7",
           "#00a6d6",
           "#a7a7a7",
           "#00a6d6",
           "#a7a7a7",
           "#00a6d6",
           "#00a6d6",
           "#00a6d6",
           "#00a6d6",
           "#00a6d6",
           "#00a6d6",
           "#00a6d6",
           "#00a6d6",
           "#a7a7a7",
           "#a7a7a7",
           "#00a6d6",
           "#00a6d6",
           "#00a6d6",
           "#00a6d6",
           "#00a6d6",
           "#00a6d6",
           "#00a6d6",
           "#a7a7a7",
           "#a7a7a7",
           "#a7a7a7",
           "#00a6d6",
           "#00a6d6",
           "#a7a7a7",
           "#00a6d6",
           "#00a6d6",
           "#00a6d6",
           "#00a6d6",
           "#00a6d6",
           "#a7a7a7",
           "#00a6d6"
          ],
          "coloraxis": "coloraxis"
         },
         "name": "",
         "type": "parcats"
        }
       ],
       "layout": {
        "coloraxis": {
         "colorbar": {
          "title": {
           "text": "color"
          }
         },
         "colorscale": [
          [
           0,
           "#0d0887"
          ],
          [
           0.1111111111111111,
           "#46039f"
          ],
          [
           0.2222222222222222,
           "#7201a8"
          ],
          [
           0.3333333333333333,
           "#9c179e"
          ],
          [
           0.4444444444444444,
           "#bd3786"
          ],
          [
           0.5555555555555556,
           "#d8576b"
          ],
          [
           0.6666666666666666,
           "#ed7953"
          ],
          [
           0.7777777777777778,
           "#fb9f3a"
          ],
          [
           0.8888888888888888,
           "#fdca26"
          ],
          [
           1,
           "#f0f921"
          ]
         ]
        },
        "font": {
         "size": 17
        },
        "height": 500,
        "legend": {
         "tracegroupgap": 0
        },
        "margin": {
         "t": 60
        },
        "template": {
         "data": {
          "bar": [
           {
            "error_x": {
             "color": "#2a3f5f"
            },
            "error_y": {
             "color": "#2a3f5f"
            },
            "marker": {
             "line": {
              "color": "#E5ECF6",
              "width": 0.5
             },
             "pattern": {
              "fillmode": "overlay",
              "size": 10,
              "solidity": 0.2
             }
            },
            "type": "bar"
           }
          ],
          "barpolar": [
           {
            "marker": {
             "line": {
              "color": "#E5ECF6",
              "width": 0.5
             },
             "pattern": {
              "fillmode": "overlay",
              "size": 10,
              "solidity": 0.2
             }
            },
            "type": "barpolar"
           }
          ],
          "carpet": [
           {
            "aaxis": {
             "endlinecolor": "#2a3f5f",
             "gridcolor": "white",
             "linecolor": "white",
             "minorgridcolor": "white",
             "startlinecolor": "#2a3f5f"
            },
            "baxis": {
             "endlinecolor": "#2a3f5f",
             "gridcolor": "white",
             "linecolor": "white",
             "minorgridcolor": "white",
             "startlinecolor": "#2a3f5f"
            },
            "type": "carpet"
           }
          ],
          "choropleth": [
           {
            "colorbar": {
             "outlinewidth": 0,
             "ticks": ""
            },
            "type": "choropleth"
           }
          ],
          "contour": [
           {
            "colorbar": {
             "outlinewidth": 0,
             "ticks": ""
            },
            "colorscale": [
             [
              0,
              "#0d0887"
             ],
             [
              0.1111111111111111,
              "#46039f"
             ],
             [
              0.2222222222222222,
              "#7201a8"
             ],
             [
              0.3333333333333333,
              "#9c179e"
             ],
             [
              0.4444444444444444,
              "#bd3786"
             ],
             [
              0.5555555555555556,
              "#d8576b"
             ],
             [
              0.6666666666666666,
              "#ed7953"
             ],
             [
              0.7777777777777778,
              "#fb9f3a"
             ],
             [
              0.8888888888888888,
              "#fdca26"
             ],
             [
              1,
              "#f0f921"
             ]
            ],
            "type": "contour"
           }
          ],
          "contourcarpet": [
           {
            "colorbar": {
             "outlinewidth": 0,
             "ticks": ""
            },
            "type": "contourcarpet"
           }
          ],
          "heatmap": [
           {
            "colorbar": {
             "outlinewidth": 0,
             "ticks": ""
            },
            "colorscale": [
             [
              0,
              "#0d0887"
             ],
             [
              0.1111111111111111,
              "#46039f"
             ],
             [
              0.2222222222222222,
              "#7201a8"
             ],
             [
              0.3333333333333333,
              "#9c179e"
             ],
             [
              0.4444444444444444,
              "#bd3786"
             ],
             [
              0.5555555555555556,
              "#d8576b"
             ],
             [
              0.6666666666666666,
              "#ed7953"
             ],
             [
              0.7777777777777778,
              "#fb9f3a"
             ],
             [
              0.8888888888888888,
              "#fdca26"
             ],
             [
              1,
              "#f0f921"
             ]
            ],
            "type": "heatmap"
           }
          ],
          "heatmapgl": [
           {
            "colorbar": {
             "outlinewidth": 0,
             "ticks": ""
            },
            "colorscale": [
             [
              0,
              "#0d0887"
             ],
             [
              0.1111111111111111,
              "#46039f"
             ],
             [
              0.2222222222222222,
              "#7201a8"
             ],
             [
              0.3333333333333333,
              "#9c179e"
             ],
             [
              0.4444444444444444,
              "#bd3786"
             ],
             [
              0.5555555555555556,
              "#d8576b"
             ],
             [
              0.6666666666666666,
              "#ed7953"
             ],
             [
              0.7777777777777778,
              "#fb9f3a"
             ],
             [
              0.8888888888888888,
              "#fdca26"
             ],
             [
              1,
              "#f0f921"
             ]
            ],
            "type": "heatmapgl"
           }
          ],
          "histogram": [
           {
            "marker": {
             "pattern": {
              "fillmode": "overlay",
              "size": 10,
              "solidity": 0.2
             }
            },
            "type": "histogram"
           }
          ],
          "histogram2d": [
           {
            "colorbar": {
             "outlinewidth": 0,
             "ticks": ""
            },
            "colorscale": [
             [
              0,
              "#0d0887"
             ],
             [
              0.1111111111111111,
              "#46039f"
             ],
             [
              0.2222222222222222,
              "#7201a8"
             ],
             [
              0.3333333333333333,
              "#9c179e"
             ],
             [
              0.4444444444444444,
              "#bd3786"
             ],
             [
              0.5555555555555556,
              "#d8576b"
             ],
             [
              0.6666666666666666,
              "#ed7953"
             ],
             [
              0.7777777777777778,
              "#fb9f3a"
             ],
             [
              0.8888888888888888,
              "#fdca26"
             ],
             [
              1,
              "#f0f921"
             ]
            ],
            "type": "histogram2d"
           }
          ],
          "histogram2dcontour": [
           {
            "colorbar": {
             "outlinewidth": 0,
             "ticks": ""
            },
            "colorscale": [
             [
              0,
              "#0d0887"
             ],
             [
              0.1111111111111111,
              "#46039f"
             ],
             [
              0.2222222222222222,
              "#7201a8"
             ],
             [
              0.3333333333333333,
              "#9c179e"
             ],
             [
              0.4444444444444444,
              "#bd3786"
             ],
             [
              0.5555555555555556,
              "#d8576b"
             ],
             [
              0.6666666666666666,
              "#ed7953"
             ],
             [
              0.7777777777777778,
              "#fb9f3a"
             ],
             [
              0.8888888888888888,
              "#fdca26"
             ],
             [
              1,
              "#f0f921"
             ]
            ],
            "type": "histogram2dcontour"
           }
          ],
          "mesh3d": [
           {
            "colorbar": {
             "outlinewidth": 0,
             "ticks": ""
            },
            "type": "mesh3d"
           }
          ],
          "parcoords": [
           {
            "line": {
             "colorbar": {
              "outlinewidth": 0,
              "ticks": ""
             }
            },
            "type": "parcoords"
           }
          ],
          "pie": [
           {
            "automargin": true,
            "type": "pie"
           }
          ],
          "scatter": [
           {
            "fillpattern": {
             "fillmode": "overlay",
             "size": 10,
             "solidity": 0.2
            },
            "type": "scatter"
           }
          ],
          "scatter3d": [
           {
            "line": {
             "colorbar": {
              "outlinewidth": 0,
              "ticks": ""
             }
            },
            "marker": {
             "colorbar": {
              "outlinewidth": 0,
              "ticks": ""
             }
            },
            "type": "scatter3d"
           }
          ],
          "scattercarpet": [
           {
            "marker": {
             "colorbar": {
              "outlinewidth": 0,
              "ticks": ""
             }
            },
            "type": "scattercarpet"
           }
          ],
          "scattergeo": [
           {
            "marker": {
             "colorbar": {
              "outlinewidth": 0,
              "ticks": ""
             }
            },
            "type": "scattergeo"
           }
          ],
          "scattergl": [
           {
            "marker": {
             "colorbar": {
              "outlinewidth": 0,
              "ticks": ""
             }
            },
            "type": "scattergl"
           }
          ],
          "scattermapbox": [
           {
            "marker": {
             "colorbar": {
              "outlinewidth": 0,
              "ticks": ""
             }
            },
            "type": "scattermapbox"
           }
          ],
          "scatterpolar": [
           {
            "marker": {
             "colorbar": {
              "outlinewidth": 0,
              "ticks": ""
             }
            },
            "type": "scatterpolar"
           }
          ],
          "scatterpolargl": [
           {
            "marker": {
             "colorbar": {
              "outlinewidth": 0,
              "ticks": ""
             }
            },
            "type": "scatterpolargl"
           }
          ],
          "scatterternary": [
           {
            "marker": {
             "colorbar": {
              "outlinewidth": 0,
              "ticks": ""
             }
            },
            "type": "scatterternary"
           }
          ],
          "surface": [
           {
            "colorbar": {
             "outlinewidth": 0,
             "ticks": ""
            },
            "colorscale": [
             [
              0,
              "#0d0887"
             ],
             [
              0.1111111111111111,
              "#46039f"
             ],
             [
              0.2222222222222222,
              "#7201a8"
             ],
             [
              0.3333333333333333,
              "#9c179e"
             ],
             [
              0.4444444444444444,
              "#bd3786"
             ],
             [
              0.5555555555555556,
              "#d8576b"
             ],
             [
              0.6666666666666666,
              "#ed7953"
             ],
             [
              0.7777777777777778,
              "#fb9f3a"
             ],
             [
              0.8888888888888888,
              "#fdca26"
             ],
             [
              1,
              "#f0f921"
             ]
            ],
            "type": "surface"
           }
          ],
          "table": [
           {
            "cells": {
             "fill": {
              "color": "#EBF0F8"
             },
             "line": {
              "color": "white"
             }
            },
            "header": {
             "fill": {
              "color": "#C8D4E3"
             },
             "line": {
              "color": "white"
             }
            },
            "type": "table"
           }
          ]
         },
         "layout": {
          "annotationdefaults": {
           "arrowcolor": "#2a3f5f",
           "arrowhead": 0,
           "arrowwidth": 1
          },
          "autotypenumbers": "strict",
          "coloraxis": {
           "colorbar": {
            "outlinewidth": 0,
            "ticks": ""
           }
          },
          "colorscale": {
           "diverging": [
            [
             0,
             "#8e0152"
            ],
            [
             0.1,
             "#c51b7d"
            ],
            [
             0.2,
             "#de77ae"
            ],
            [
             0.3,
             "#f1b6da"
            ],
            [
             0.4,
             "#fde0ef"
            ],
            [
             0.5,
             "#f7f7f7"
            ],
            [
             0.6,
             "#e6f5d0"
            ],
            [
             0.7,
             "#b8e186"
            ],
            [
             0.8,
             "#7fbc41"
            ],
            [
             0.9,
             "#4d9221"
            ],
            [
             1,
             "#276419"
            ]
           ],
           "sequential": [
            [
             0,
             "#0d0887"
            ],
            [
             0.1111111111111111,
             "#46039f"
            ],
            [
             0.2222222222222222,
             "#7201a8"
            ],
            [
             0.3333333333333333,
             "#9c179e"
            ],
            [
             0.4444444444444444,
             "#bd3786"
            ],
            [
             0.5555555555555556,
             "#d8576b"
            ],
            [
             0.6666666666666666,
             "#ed7953"
            ],
            [
             0.7777777777777778,
             "#fb9f3a"
            ],
            [
             0.8888888888888888,
             "#fdca26"
            ],
            [
             1,
             "#f0f921"
            ]
           ],
           "sequentialminus": [
            [
             0,
             "#0d0887"
            ],
            [
             0.1111111111111111,
             "#46039f"
            ],
            [
             0.2222222222222222,
             "#7201a8"
            ],
            [
             0.3333333333333333,
             "#9c179e"
            ],
            [
             0.4444444444444444,
             "#bd3786"
            ],
            [
             0.5555555555555556,
             "#d8576b"
            ],
            [
             0.6666666666666666,
             "#ed7953"
            ],
            [
             0.7777777777777778,
             "#fb9f3a"
            ],
            [
             0.8888888888888888,
             "#fdca26"
            ],
            [
             1,
             "#f0f921"
            ]
           ]
          },
          "colorway": [
           "#636efa",
           "#EF553B",
           "#00cc96",
           "#ab63fa",
           "#FFA15A",
           "#19d3f3",
           "#FF6692",
           "#B6E880",
           "#FF97FF",
           "#FECB52"
          ],
          "font": {
           "color": "#2a3f5f"
          },
          "geo": {
           "bgcolor": "white",
           "lakecolor": "white",
           "landcolor": "#E5ECF6",
           "showlakes": true,
           "showland": true,
           "subunitcolor": "white"
          },
          "hoverlabel": {
           "align": "left"
          },
          "hovermode": "closest",
          "mapbox": {
           "style": "light"
          },
          "paper_bgcolor": "white",
          "plot_bgcolor": "#E5ECF6",
          "polar": {
           "angularaxis": {
            "gridcolor": "white",
            "linecolor": "white",
            "ticks": ""
           },
           "bgcolor": "#E5ECF6",
           "radialaxis": {
            "gridcolor": "white",
            "linecolor": "white",
            "ticks": ""
           }
          },
          "scene": {
           "xaxis": {
            "backgroundcolor": "#E5ECF6",
            "gridcolor": "white",
            "gridwidth": 2,
            "linecolor": "white",
            "showbackground": true,
            "ticks": "",
            "zerolinecolor": "white"
           },
           "yaxis": {
            "backgroundcolor": "#E5ECF6",
            "gridcolor": "white",
            "gridwidth": 2,
            "linecolor": "white",
            "showbackground": true,
            "ticks": "",
            "zerolinecolor": "white"
           },
           "zaxis": {
            "backgroundcolor": "#E5ECF6",
            "gridcolor": "white",
            "gridwidth": 2,
            "linecolor": "white",
            "showbackground": true,
            "ticks": "",
            "zerolinecolor": "white"
           }
          },
          "shapedefaults": {
           "line": {
            "color": "#2a3f5f"
           }
          },
          "ternary": {
           "aaxis": {
            "gridcolor": "white",
            "linecolor": "white",
            "ticks": ""
           },
           "baxis": {
            "gridcolor": "white",
            "linecolor": "white",
            "ticks": ""
           },
           "bgcolor": "#E5ECF6",
           "caxis": {
            "gridcolor": "white",
            "linecolor": "white",
            "ticks": ""
           }
          },
          "title": {
           "x": 0.05
          },
          "xaxis": {
           "automargin": true,
           "gridcolor": "white",
           "linecolor": "white",
           "ticks": "",
           "title": {
            "standoff": 15
           },
           "zerolinecolor": "white",
           "zerolinewidth": 2
          },
          "yaxis": {
           "automargin": true,
           "gridcolor": "white",
           "linecolor": "white",
           "ticks": "",
           "title": {
            "standoff": 15
           },
           "zerolinecolor": "white",
           "zerolinewidth": 2
          }
         }
        },
        "title": {
         "font": {
          "size": 30
         },
         "text": "People: Do you use public transportation frequently?"
        },
        "width": 1050
       }
      }
     },
     "metadata": {},
     "output_type": "display_data"
    }
   ],
   "source": [
    "# Select which aim and condition questions you would like to visualize in the Parallel set diagram\n",
    "aim = \"Q4\"\n",
    "conditions = [\"Q1\", \"Q7\", \"Q10\"]\n",
    "questions = [aim] + conditions\n",
    "\n",
    "paralelsetdf = adjusted_responses[questions].astype(str)\n",
    "\n",
    "# Define custom color mapping\n",
    "color_mapping = {\n",
    "    \"1\": \"#00a6d6\",\n",
    "    \"2\": \"#a7a7a7\"\n",
    "}\n",
    "\n",
    "# Apply color mapping\n",
    "paralelsetdf['color'] = paralelsetdf[aim].map(color_mapping)\n",
    "\n",
    "# Update labels to provide the need\n",
    "aimcounts = paralelsetdf[aim].value_counts()\n",
    "paralelsetdf.loc[paralelsetdf[aim] == str(1), aim] = f\"Does ({aimcounts.loc[str(1)]})\"\n",
    "paralelsetdf.loc[paralelsetdf[aim] == str(2), aim] = f\"Does not ({aimcounts.loc[str(2)]})\"\n",
    "\n",
    "for condition in conditions:\n",
    "    conditioncounts = paralelsetdf[condition].value_counts()\n",
    "    for val in paralelsetdf[condition].unique():\n",
    "        paralelsetdf.loc[paralelsetdf[condition] == val, condition] = adjusted_overview.loc[(adjusted_overview['Question_ID'] == condition) & (adjusted_overview['Response_Value'] == float(val)), \"Response_Option\"].iloc[0] + f\" ({conditioncounts.loc[val]})\"\n",
    "\n",
    "\n",
    "diagram_headers = questions\n",
    "diagram_headers = [\"Frequent use?\", \"Age?\", \"Percieved Price\", \"Peer pressure to use?\"]\n",
    "paralelsetdf.columns = diagram_headers + [\"color\"]\n",
    "\n",
    "# Create the parallel categories plot\n",
    "fig = px.parallel_categories(\n",
    "    paralelsetdf,\n",
    "    dimensions=diagram_headers,\n",
    "    color='color',\n",
    ")\n",
    "\n",
    "# Update the layout of the figure with a title and font size\n",
    "fig.update_layout(title_text=\"People: \" + adjusted_overview[adjusted_overview['Question_ID'] == aim][\"Question_Text\"].iloc[0], \n",
    "                    height=500,\n",
    "                    width=1050,\n",
    "                    title_font=dict(size=30),  # Set title font size here\n",
    "                    font=dict(size=17)  # Set default font size here (for labels, etc.)\n",
    ")\n",
    "\n",
    "# Show the plot\n",
    "fig.show()\n"
   ]
  },
  {
   "cell_type": "code",
   "execution_count": 81,
   "metadata": {},
   "outputs": [
    {
     "data": {
      "text/html": [
       "<div>\n",
       "<style scoped>\n",
       "    .dataframe tbody tr th:only-of-type {\n",
       "        vertical-align: middle;\n",
       "    }\n",
       "\n",
       "    .dataframe tbody tr th {\n",
       "        vertical-align: top;\n",
       "    }\n",
       "\n",
       "    .dataframe thead th {\n",
       "        text-align: right;\n",
       "    }\n",
       "</style>\n",
       "<table border=\"1\" class=\"dataframe\">\n",
       "  <thead>\n",
       "    <tr style=\"text-align: right;\">\n",
       "      <th></th>\n",
       "      <th>Frequent use?</th>\n",
       "      <th>Age?</th>\n",
       "      <th>Percieved Price</th>\n",
       "      <th>Peer pressure to use?</th>\n",
       "      <th>color</th>\n",
       "    </tr>\n",
       "    <tr>\n",
       "      <th>Response_ID</th>\n",
       "      <th></th>\n",
       "      <th></th>\n",
       "      <th></th>\n",
       "      <th></th>\n",
       "      <th></th>\n",
       "    </tr>\n",
       "  </thead>\n",
       "  <tbody>\n",
       "    <tr>\n",
       "      <th>2</th>\n",
       "      <td>Does (35)</td>\n",
       "      <td>50 or younger (40)</td>\n",
       "      <td>Expensive (22)</td>\n",
       "      <td>Yes (29)</td>\n",
       "      <td>#00a6d6</td>\n",
       "    </tr>\n",
       "    <tr>\n",
       "      <th>4</th>\n",
       "      <td>Does not (26)</td>\n",
       "      <td>50 or younger (40)</td>\n",
       "      <td>Expensive (22)</td>\n",
       "      <td>No (32)</td>\n",
       "      <td>#a7a7a7</td>\n",
       "    </tr>\n",
       "    <tr>\n",
       "      <th>5</th>\n",
       "      <td>Does not (26)</td>\n",
       "      <td>Over 50 (21)</td>\n",
       "      <td>not Expensive (39)</td>\n",
       "      <td>Yes (29)</td>\n",
       "      <td>#a7a7a7</td>\n",
       "    </tr>\n",
       "    <tr>\n",
       "      <th>6</th>\n",
       "      <td>Does (35)</td>\n",
       "      <td>50 or younger (40)</td>\n",
       "      <td>not Expensive (39)</td>\n",
       "      <td>No (32)</td>\n",
       "      <td>#00a6d6</td>\n",
       "    </tr>\n",
       "    <tr>\n",
       "      <th>8</th>\n",
       "      <td>Does (35)</td>\n",
       "      <td>Over 50 (21)</td>\n",
       "      <td>not Expensive (39)</td>\n",
       "      <td>No (32)</td>\n",
       "      <td>#00a6d6</td>\n",
       "    </tr>\n",
       "    <tr>\n",
       "      <th>...</th>\n",
       "      <td>...</td>\n",
       "      <td>...</td>\n",
       "      <td>...</td>\n",
       "      <td>...</td>\n",
       "      <td>...</td>\n",
       "    </tr>\n",
       "    <tr>\n",
       "      <th>91</th>\n",
       "      <td>Does (35)</td>\n",
       "      <td>50 or younger (40)</td>\n",
       "      <td>not Expensive (39)</td>\n",
       "      <td>Yes (29)</td>\n",
       "      <td>#00a6d6</td>\n",
       "    </tr>\n",
       "    <tr>\n",
       "      <th>92</th>\n",
       "      <td>Does (35)</td>\n",
       "      <td>Over 50 (21)</td>\n",
       "      <td>Expensive (22)</td>\n",
       "      <td>No (32)</td>\n",
       "      <td>#00a6d6</td>\n",
       "    </tr>\n",
       "    <tr>\n",
       "      <th>94</th>\n",
       "      <td>Does (35)</td>\n",
       "      <td>Over 50 (21)</td>\n",
       "      <td>Expensive (22)</td>\n",
       "      <td>No (32)</td>\n",
       "      <td>#00a6d6</td>\n",
       "    </tr>\n",
       "    <tr>\n",
       "      <th>98</th>\n",
       "      <td>Does not (26)</td>\n",
       "      <td>50 or younger (40)</td>\n",
       "      <td>not Expensive (39)</td>\n",
       "      <td>No (32)</td>\n",
       "      <td>#a7a7a7</td>\n",
       "    </tr>\n",
       "    <tr>\n",
       "      <th>99</th>\n",
       "      <td>Does (35)</td>\n",
       "      <td>Over 50 (21)</td>\n",
       "      <td>Expensive (22)</td>\n",
       "      <td>No (32)</td>\n",
       "      <td>#00a6d6</td>\n",
       "    </tr>\n",
       "  </tbody>\n",
       "</table>\n",
       "<p>61 rows × 5 columns</p>\n",
       "</div>"
      ],
      "text/plain": [
       "             Frequent use?                Age?     Percieved Price  \\\n",
       "Response_ID                                                          \n",
       "2                Does (35)  50 or younger (40)      Expensive (22)   \n",
       "4            Does not (26)  50 or younger (40)      Expensive (22)   \n",
       "5            Does not (26)        Over 50 (21)  not Expensive (39)   \n",
       "6                Does (35)  50 or younger (40)  not Expensive (39)   \n",
       "8                Does (35)        Over 50 (21)  not Expensive (39)   \n",
       "...                    ...                 ...                 ...   \n",
       "91               Does (35)  50 or younger (40)  not Expensive (39)   \n",
       "92               Does (35)        Over 50 (21)      Expensive (22)   \n",
       "94               Does (35)        Over 50 (21)      Expensive (22)   \n",
       "98           Does not (26)  50 or younger (40)  not Expensive (39)   \n",
       "99               Does (35)        Over 50 (21)      Expensive (22)   \n",
       "\n",
       "            Peer pressure to use?    color  \n",
       "Response_ID                                 \n",
       "2                        Yes (29)  #00a6d6  \n",
       "4                         No (32)  #a7a7a7  \n",
       "5                        Yes (29)  #a7a7a7  \n",
       "6                         No (32)  #00a6d6  \n",
       "8                         No (32)  #00a6d6  \n",
       "...                           ...      ...  \n",
       "91                       Yes (29)  #00a6d6  \n",
       "92                        No (32)  #00a6d6  \n",
       "94                        No (32)  #00a6d6  \n",
       "98                        No (32)  #a7a7a7  \n",
       "99                        No (32)  #00a6d6  \n",
       "\n",
       "[61 rows x 5 columns]"
      ]
     },
     "execution_count": 81,
     "metadata": {},
     "output_type": "execute_result"
    }
   ],
   "source": [
    "paralelsetdf"
   ]
  },
  {
   "cell_type": "markdown",
   "metadata": {},
   "source": [
    "Extracting statements using Decision Trees "
   ]
  },
  {
   "cell_type": "code",
   "execution_count": 82,
   "metadata": {},
   "outputs": [],
   "source": [
    "from sklearn.model_selection import train_test_split\n",
    "from sklearn.tree import DecisionTreeClassifier, plot_tree\n",
    "import matplotlib.pyplot as plt\n",
    "import numpy as np"
   ]
  },
  {
   "cell_type": "code",
   "execution_count": 97,
   "metadata": {},
   "outputs": [],
   "source": [
    "# Function that takes a tree and an index value of a tree node that satisfies the conditions to be a statement and generates a row for the statement table\n",
    "def makeTreeStatement(tree, satisfactory_index, classes, features, attributeGroup, aim, Aim_description):\n",
    "    # Get the aim outcome of the node (which action has more samples)\n",
    "    class_index = np.argmax(tree.value[satisfactory_index])  \n",
    "    Aim_resp = classes[class_index]\n",
    "\n",
    "    # Retrieve the class counts at the root node\n",
    "    aim_resp_count = tree.value[0][0]  # Gets the counts for each class\n",
    "    \n",
    "    # get how many in people answered with this aim outcome\n",
    "    total_aim_percent = aim_resp_count[class_index]/tree.n_node_samples[0]\n",
    "\n",
    "    if satisfactory_index == 0:\n",
    "        condition2 = condition1 = None, \n",
    "        Condition2_description = Condition1_description = None\n",
    "        condition2_rows_of_leaf = condition1_rows_of_leaf = [] \n",
    "        condition2_count = condition1_count = tree.n_node_samples[0]\n",
    "        condition2_aim_resp_percent = condition1_aim_resp_percent = total_aim_percent\n",
    "    else:\n",
    "        condition1 = features[tree.feature[0]]   # Get the condition used for the root node\n",
    "        #get the description of the first condition question used\n",
    "        Condition1_description = adjusted_overview[adjusted_overview[\"Question_ID\"] == condition1.strip()]['Question_Text'].iat[0]\n",
    "        #Rows of question data for condition1\n",
    "        condition1_rows = adjusted_overview[(adjusted_overview['Question_ID'] == condition1) & adjusted_overview['Response_Value'].isin(adjusted_responses[condition1].unique())]\n",
    "\n",
    "        satisfactory_leaf_is_left = tree.feature[satisfactory_index - 1] != -2  # Determine if the leaf is on the \"left\"\n",
    "        \n",
    "        if satisfactory_leaf_is_left: # The leaf meets the threshold      \n",
    "            leaf_parent_index = satisfactory_index - 1\n",
    "        else:  # The leaf does not meet the threshold (falls outside the threshold)\n",
    "            leaf_parent_index = satisfactory_index - 2\n",
    "            if tree.feature[leaf_parent_index] == -2: #was directly connected to root and on the right \n",
    "                leaf_parent_index = 0\n",
    "\n",
    "        if leaf_parent_index != 0: #if the leaf is not directly connected to the root node\n",
    "            root_threshold = tree.threshold[0]  # get the threshold used on the root node\n",
    "            parent_is_left = leaf_parent_index - 1 == 0  # Determine if the parent is on the \"left\"\n",
    "\n",
    "            # Set 'in_thresh' based on whether the condition is met (leaf is within the threshold)\n",
    "            if parent_is_left: # The parent meets the threshold\n",
    "                condition1_rows_of_leaf = condition1_rows[condition1_rows['Response_Value'] <= root_threshold]['IG_Component']\n",
    "\n",
    "            else: # The leaf does not meet the threshold\n",
    "                condition1_rows_of_leaf = condition1_rows[condition1_rows['Response_Value'] > root_threshold]['IG_Component']\n",
    "                    \n",
    "            condition1_count = tree.n_node_samples[leaf_parent_index]\n",
    "            condition1_aim_resp_percent = tree.value[leaf_parent_index][0, class_index]/condition1_count\n",
    "            condition2 = features[tree.feature[leaf_parent_index]]\n",
    "            Condition2_description = Survey_Overview[Survey_Overview[\"Question_ID\"] == condition2.strip()]['Question_Text'].iat[0]\n",
    "\n",
    "            threshold2 = tree.threshold[leaf_parent_index]  # get the threshold used on the least entropy leaf\n",
    "            #Rows of question data for this condition\n",
    "            condition2_rows = adjusted_overview[(adjusted_overview['Question_ID'] == condition2) & adjusted_overview['Response_Value'].isin(adjusted_responses[condition2].unique())]\n",
    "      \n",
    "            if satisfactory_leaf_is_left:\n",
    "                condition2_rows_of_leaf = condition2_rows[condition2_rows['Response_Value'] <= threshold2]['IG_Component']\n",
    "\n",
    "            else: \n",
    "                condition2_rows_of_leaf = condition2_rows[condition2_rows['Response_Value'] > threshold2]['IG_Component']\n",
    "\n",
    "            condition2_count = tree.n_node_samples[satisfactory_index]\n",
    "            condition2_aim_resp_percent = tree.value[satisfactory_index][0][np.argmax(tree.value[satisfactory_index][0])]/condition2_count\n",
    "    \n",
    "        else:\n",
    "            condition1 = features[tree.feature[leaf_parent_index]]\n",
    "            parent_threshold = tree.threshold[leaf_parent_index]  # get the threshold used on the least entropy leaf\n",
    "            #Rows of question data for this condition\n",
    "            condition1_rows = adjusted_overview[(adjusted_overview['Question_ID'] == condition1) & adjusted_overview['Response_Value'].isin(adjusted_responses[condition1].unique())]\n",
    "\n",
    "            if satisfactory_leaf_is_left:\n",
    "                condition1_rows_of_leaf = condition1_rows[condition1_rows['Response_Value'] <= parent_threshold]['IG_Component']\n",
    "            else: \n",
    "                condition1_rows_of_leaf = condition1_rows[condition1_rows['Response_Value'] > parent_threshold]['IG_Component']\n",
    "\n",
    "            condition1_count = tree.n_node_samples[satisfactory_index]\n",
    "            condition1_aim_resp_percent = tree.value[satisfactory_index][0][np.argmax(tree.value[satisfactory_index][0])]/condition1_count\n",
    "            \n",
    "            condition2 = None, \n",
    "            Condition2_description = None\n",
    "            condition2_rows_of_leaf = [] \n",
    "            condition2_count = condition1_count\n",
    "            condition2_aim_resp_percent = condition1_aim_resp_percent\n",
    "\n",
    "    # Create a new row with specified values\n",
    "    new_row = {\n",
    "        'Attribute': attributeGroup,\n",
    "\n",
    "        'Aim': aim,\n",
    "        'Aim_description': Aim_description,\n",
    "        'Aim_resp': Aim_resp,  # Class with the lowest entropy\n",
    "        'Total_count':tree.n_node_samples[0], \n",
    "        'Aim_%_True': total_aim_percent,\n",
    "\n",
    "        'Condition1': condition1,\n",
    "        'Condition1_description': Condition1_description,\n",
    "        'Condition1_resp': \", \".join(condition1_rows_of_leaf),\n",
    "        'Condition1_count': condition1_count,\n",
    "        'Condition1_Aim_%': condition1_aim_resp_percent, \n",
    "\n",
    "        'Condition2': condition2, \n",
    "        'Condition2_description': Condition2_description,\n",
    "        'Condition2_resp': \", \".join(condition2_rows_of_leaf), \n",
    "        'Condition2_count': condition2_count,\n",
    "        'Condition2_Aim_%': condition2_aim_resp_percent,\n",
    "\n",
    "        'final_entropy': tree.impurity[satisfactory_index]\n",
    "    }\n",
    "    return new_row"
   ]
  },
  {
   "cell_type": "code",
   "execution_count": 107,
   "metadata": {},
   "outputs": [],
   "source": [
    "def select_statements(aim, conditions, responses, statement_questions, attributeGroup, entropy_threshold, sample_threshold, recursion):\n",
    "\n",
    "    # Find the relevant row and value labels\n",
    "    aimRow = adjusted_overview[adjusted_overview[\"Question_ID\"] == aim]\n",
    "    aimRow0 = str(aimRow.at[aimRow.index[0], \"IG_Component\"])\n",
    "    aimRow1 = str(aimRow.at[aimRow.index[-1], \"IG_Component\"])\n",
    "    classes = [aimRow0,aimRow1]\n",
    "\n",
    "    Aim_description = adjusted_overview[adjusted_overview[\"Question_ID\"] == aim.strip()]['Question_Text'].iat[0]\n",
    "\n",
    "    print(f\"Processing aim: {aim}: {str(aimRow.at[aimRow.index[0], 'Question_Text'])}\")\n",
    "\n",
    "    # Split the data\n",
    "    condition_responses = responses[conditions].values\n",
    "    aim_responses = responses.loc[:, aim].values\n",
    "\n",
    "    sample_demographic_size = len(aim_responses)\n",
    "\n",
    "    clf_entropy = DecisionTreeClassifier(criterion='entropy', random_state=42, max_depth=2)\n",
    "    clf_entropy.fit(condition_responses, aim_responses)\n",
    "\n",
    "    #list of the condtions we test\n",
    "    features = conditions\n",
    "\n",
    "    # 'clf_entropy' is your trained decision tree classifier\n",
    "    tree = clf_entropy.tree_\n",
    "\n",
    "    #Identify leaf indices (where feature is -2)\n",
    "    leaf_indices = np.where(tree.feature == -2)[0]\n",
    "\n",
    "    #Find nodes where entropy is within the threshold\n",
    "    pure_enough_nodes = np.where(tree.impurity <= entropy_threshold)[0]\n",
    "    #Find nodes which have enough samples is within the threshold\n",
    "    enough_sample_nodes = np.where(tree.n_node_samples >= int(sample_threshold*sample_demographic_size))[0]\n",
    "    # Find the intersection of both lists\n",
    "    satisfactory_nodes = np.intersect1d(pure_enough_nodes, enough_sample_nodes)\n",
    "    \n",
    "    for node in satisfactory_nodes:\n",
    "        new_row = makeTreeStatement(tree, node, classes, features, attributeGroup, aim, Aim_description)\n",
    "        # Using a new index to add a row directly\n",
    "        row_number = len(statement_questions)  # Determine the next index\n",
    "        statement_questions.loc[row_number] = new_row\n",
    "        # Drop duplicates if needed\n",
    "        statement_questions = statement_questions.drop_duplicates()\n",
    "\n",
    "    #find the leaf with the lowest entropy\n",
    "    least_entropy_index = leaf_indices[np.argmin(tree.impurity[leaf_indices])]\n",
    "    final_entropy = tree.impurity[least_entropy_index]\n",
    "    print(final_entropy)\n",
    "\n",
    "    if final_entropy < entropy_threshold: \n",
    "        # Visualize the decision tree\n",
    "        plt.figure(figsize=(25, 5))\n",
    "\n",
    "        plot_tree(clf_entropy, filled=True, feature_names=features, class_names=classes)\n",
    "        plt.suptitle(f\"{aim}: {str(aimRow.at[aimRow.index[0], 'Question_Text'])}\")\n",
    "        plt.show()\n",
    "    \n",
    "    if recursion < min(3, len(conditions)-2):\n",
    "        recursion_conditions = [condition for condition in conditions if condition not in statement_questions[\"Condition1\"].tolist()[-recursion:]]\n",
    "        statement_questions = select_statements(aim, recursion_conditions, responses, statement_questions, attributeGroup, entropy_threshold, sample_threshold, recursion+1) \n",
    "\n",
    "\n",
    "    return statement_questions"
   ]
  },
  {
   "cell_type": "code",
   "execution_count": 102,
   "metadata": {},
   "outputs": [],
   "source": [
    "#create a table that will be filled by selected combinations of aims and conditions with the relevant information for further processing \n",
    "statement_questions = pd.DataFrame(columns = ['Attribute', \n",
    "                                              'Aim', 'Aim_description', 'Aim_resp', 'Total_count', 'Aim_%_True', \n",
    "                                              'Condition1', 'Condition1_description', 'Condition1_resp', 'Condition1_count', 'Condition1_Aim_%', \n",
    "                                              'Condition2', 'Condition2_description', 'Condition2_resp', 'Condition2_count', 'Condition2_Aim_%',\n",
    "                                              'final_entropy'])"
   ]
  },
  {
   "cell_type": "code",
   "execution_count": 110,
   "metadata": {},
   "outputs": [
    {
     "name": "stdout",
     "output_type": "stream",
     "text": [
      "Processing aim: Q4: Do you use public transportation frequently?\n",
      "0.7732266742876346\n"
     ]
    },
    {
     "data": {
      "image/png": "[encoded data removed]",
      "text/plain": [
       "<Figure size 2500x500 with 1 Axes>"
      ]
     },
     "metadata": {},
     "output_type": "display_data"
    },
    {
     "name": "stdout",
     "output_type": "stream",
     "text": [
      "Processing aim: Q4: Do you use public transportation frequently?\n",
      "0.8112781244591328\n"
     ]
    },
    {
     "data": {
      "image/png": "[encoded data removed]",
      "text/plain": [
       "<Figure size 2500x500 with 1 Axes>"
      ]
     },
     "metadata": {},
     "output_type": "display_data"
    },
    {
     "data": {
      "text/html": [
       "<div>\n",
       "<style scoped>\n",
       "    .dataframe tbody tr th:only-of-type {\n",
       "        vertical-align: middle;\n",
       "    }\n",
       "\n",
       "    .dataframe tbody tr th {\n",
       "        vertical-align: top;\n",
       "    }\n",
       "\n",
       "    .dataframe thead th {\n",
       "        text-align: right;\n",
       "    }\n",
       "</style>\n",
       "<table border=\"1\" class=\"dataframe\">\n",
       "  <thead>\n",
       "    <tr style=\"text-align: right;\">\n",
       "      <th></th>\n",
       "      <th>Attribute</th>\n",
       "      <th>Aim</th>\n",
       "      <th>Aim_description</th>\n",
       "      <th>Aim_resp</th>\n",
       "      <th>Total_count</th>\n",
       "      <th>Aim_%_True</th>\n",
       "      <th>Condition1</th>\n",
       "      <th>Condition1_description</th>\n",
       "      <th>Condition1_resp</th>\n",
       "      <th>Condition1_count</th>\n",
       "      <th>Condition1_Aim_%</th>\n",
       "      <th>Condition2</th>\n",
       "      <th>Condition2_description</th>\n",
       "      <th>Condition2_resp</th>\n",
       "      <th>Condition2_count</th>\n",
       "      <th>Condition2_Aim_%</th>\n",
       "      <th>final_entropy</th>\n",
       "    </tr>\n",
       "  </thead>\n",
       "  <tbody>\n",
       "    <tr>\n",
       "      <th>0</th>\n",
       "      <td>People</td>\n",
       "      <td>Q4</td>\n",
       "      <td>Do you use public transportation frequently?</td>\n",
       "      <td>use public transportation frequently</td>\n",
       "      <td>61</td>\n",
       "      <td>0.57377</td>\n",
       "      <td>Q7</td>\n",
       "      <td>Do you consider pulic transport to be affordable?</td>\n",
       "      <td>if they consider public transport to be not ex...</td>\n",
       "      <td>39</td>\n",
       "      <td>0.641026</td>\n",
       "      <td>Q10</td>\n",
       "      <td>Do your peers expect you to use public transpo...</td>\n",
       "      <td>if they feel their peers do not expect them to...</td>\n",
       "      <td>22</td>\n",
       "      <td>0.772727</td>\n",
       "      <td>0.773227</td>\n",
       "    </tr>\n",
       "    <tr>\n",
       "      <th>1</th>\n",
       "      <td>People</td>\n",
       "      <td>Q4</td>\n",
       "      <td>Do you use public transportation frequently?</td>\n",
       "      <td>use public transportation frequently</td>\n",
       "      <td>61</td>\n",
       "      <td>0.57377</td>\n",
       "      <td>Q10</td>\n",
       "      <td>Do your peers expect you to use public transpo...</td>\n",
       "      <td>if they feel their peers do not expect them to...</td>\n",
       "      <td>32</td>\n",
       "      <td>0.656250</td>\n",
       "      <td>Q1</td>\n",
       "      <td>What is your age?</td>\n",
       "      <td>if they are over 50</td>\n",
       "      <td>12</td>\n",
       "      <td>0.750000</td>\n",
       "      <td>0.811278</td>\n",
       "    </tr>\n",
       "  </tbody>\n",
       "</table>\n",
       "</div>"
      ],
      "text/plain": [
       "  Attribute Aim                               Aim_description  \\\n",
       "0    People  Q4  Do you use public transportation frequently?   \n",
       "1    People  Q4  Do you use public transportation frequently?   \n",
       "\n",
       "                               Aim_resp  Total_count  Aim_%_True Condition1  \\\n",
       "0  use public transportation frequently           61     0.57377         Q7   \n",
       "1  use public transportation frequently           61     0.57377        Q10   \n",
       "\n",
       "                              Condition1_description  \\\n",
       "0  Do you consider pulic transport to be affordable?   \n",
       "1  Do your peers expect you to use public transpo...   \n",
       "\n",
       "                                     Condition1_resp  Condition1_count  \\\n",
       "0  if they consider public transport to be not ex...                39   \n",
       "1  if they feel their peers do not expect them to...                32   \n",
       "\n",
       "   Condition1_Aim_% Condition2  \\\n",
       "0          0.641026        Q10   \n",
       "1          0.656250         Q1   \n",
       "\n",
       "                              Condition2_description  \\\n",
       "0  Do your peers expect you to use public transpo...   \n",
       "1                                  What is your age?   \n",
       "\n",
       "                                     Condition2_resp  Condition2_count  \\\n",
       "0  if they feel their peers do not expect them to...                22   \n",
       "1                                if they are over 50                12   \n",
       "\n",
       "   Condition2_Aim_%  final_entropy  \n",
       "0          0.772727       0.773227  \n",
       "1          0.750000       0.811278  "
      ]
     },
     "metadata": {},
     "output_type": "display_data"
    }
   ],
   "source": [
    "#You can change these values:\n",
    "entropy_threshold = 0.85 #How much entropy can the node have (yes aim:no aim) to be considered?\n",
    "sample_threshold = 0.1 #What proportion of the original sample size to be considered?\n",
    "\n",
    "# Select which aim and condition questions you would like to visualize in the Parallel set diagram\n",
    "aim = \"Q4\"\n",
    "conditions = [\"Q1\", \"Q7\", \"Q10\"]\n",
    "\n",
    "statement_questions =  select_statements(aim, conditions, adjusted_responses, statement_questions, \"People\", entropy_threshold, sample_threshold, 0)\n",
    "\n",
    "display(statement_questions)\n",
    "\n",
    "# Save the DataFrame to a CSV file\n",
    "statement_questions.to_csv(\"Mocksurvey_tree_selected_statements.csv\", index=False)"
   ]
  },
  {
   "cell_type": "code",
   "execution_count": 114,
   "metadata": {},
   "outputs": [
    {
     "name": "stdout",
     "output_type": "stream",
     "text": [
      "People\n",
      "use public transportation frequently\n",
      "if they consider public transport to be not expensive\n",
      "and if they feel their peers do not expect them to use public transportation \n",
      "\n",
      "People\n",
      "use public transportation frequently\n",
      "if they feel their peers do not expect them to use public transportation\n",
      "and if they are over 50 \n",
      "\n"
     ]
    }
   ],
   "source": [
    "for row in statement_questions.index:\n",
    "    print(statement_questions.loc[row, \"Attribute\"])\n",
    "    print(statement_questions.loc[row, \"Aim_resp\"])\n",
    "    print(statement_questions.loc[row, \"Condition1_resp\"])\n",
    "    print(\"and\", statement_questions.loc[row, \"Condition2_resp\"],\"\\n\")"
   ]
  }
 ],
 "metadata": {
  "kernelspec": {
   "display_name": "Python 3",
   "language": "python",
   "name": "python3"
  },
  "language_info": {
   "codemirror_mode": {
    "name": "ipython",
    "version": 3
   },
   "file_extension": ".py",
   "mimetype": "text/x-python",
   "name": "python",
   "nbconvert_exporter": "python",
   "pygments_lexer": "ipython3",
   "version": "3.11.5"
  }
 },
 "nbformat": 4,
 "nbformat_minor": 2
}
