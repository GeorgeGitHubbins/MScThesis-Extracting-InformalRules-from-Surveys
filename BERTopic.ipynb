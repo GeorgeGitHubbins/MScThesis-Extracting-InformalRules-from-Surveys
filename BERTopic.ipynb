{
 "cells": [
  {
   "cell_type": "code",
   "execution_count": 84,
   "metadata": {},
   "outputs": [],
   "source": [
    "from bertopic import BERTopic\n",
    "import pandas as pd\n",
    "from sklearn.feature_extraction.text import CountVectorizer\n",
    "\n",
    "vectorizer_model = CountVectorizer(stop_words=\"english\")\n",
    "topic_model = BERTopic(vectorizer_model=vectorizer_model, nr_topics=9)"
   ]
  },
  {
   "cell_type": "code",
   "execution_count": 2,
   "metadata": {},
   "outputs": [],
   "source": [
    "# Define a function to replace \"not numbered\" with the value in \"Variable Label\"\n",
    "def replace_not_numbered(row):\n",
    "    if row[\"Question number\\n (Questionnaire file)\"] == \"not numbered\":\n",
    "        return row[\"Variable Label\\n (Data files)\"]\n",
    "    else:\n",
    "        return row[\"Question number\\n (Questionnaire file)\"]"
   ]
  },
  {
   "cell_type": "code",
   "execution_count": 67,
   "metadata": {},
   "outputs": [],
   "source": [
    "survey_questions  = pd.read_excel('Survey Questions Overview.xlsx', sheet_name='Wave 1', engine='openpyxl')\n",
    "# Clean the survey questions dataframe to make it more usable for mapping\n",
    "# Fill forward non-null ADICO Category values to apply them to all relevant rows, Specify the columns to forward fill excluding \"Values\" and \"Value labels\"\n",
    "columns_to_ffill = [col for col in survey_questions.columns if col not in [\"Values\", \"Value labels\"]]\n",
    "\n",
    "# Forward fill the specified columns\n",
    "survey_questions[columns_to_ffill] = survey_questions[columns_to_ffill].ffill()\n",
    "\n",
    "\n",
    "# Apply the function to replace \"not numbered\" with the value in \"Variable Label\"\n",
    "survey_questions[\"Question number\\n (Questionnaire file)\"] = survey_questions.apply(replace_not_numbered, axis=1)\n",
    "\n",
    "\n",
    "# Set the index to {value of \"Question number\\n (Questionnaire file)\"} + \"_\" + {str(value of \"Values\")}\n",
    "survey_questions.set_index(survey_questions[\"Variable Label\\n (Data files)\"] + \"_\" + survey_questions[\"Values\"].astype(str), inplace=True)\n",
    "survey_questions.drop(\"ID_nan\", inplace=True)\n",
    "survey_questions.drop_duplicates(inplace=True)\n",
    "# Drop rows with NaN values in the \"Values\" column\n",
    "survey_questions.dropna(subset=[\"Values\"], inplace=True)\n",
    "\n",
    "\n",
    "question_answers_list = []\n",
    "# Define a function to create the combined string\n",
    "def combine_description_and_labels(group, question_answers_list):\n",
    "    question_subset = survey_questions[survey_questions[\"Question number\\n (Questionnaire file)\"] == group[\"Question number\\n (Questionnaire file)\"].iloc[0]]\n",
    "    # Check if it's the first row instance with the current \"Question number\\n (Questionnaire file)\" column value\n",
    "    first_instance_index = question_subset[question_subset.duplicated(subset=[\"Question number\\n (Questionnaire file)\"], keep=\"first\")].index\n",
    "    first_description = \"\"\n",
    "    combined_string = \"\"\n",
    "    if first_instance_index.size != 0:\n",
    "        first_description = question_subset[\"Description\"].iloc[0]\n",
    "        for i in group.index:  \n",
    "            if first_description != group[\"Description\"].loc[i]:\n",
    "                # If not the first instance, start with the first instance's \"Description\" column value\n",
    "                combined_string = first_description\n",
    "            # Concatenate the current row's \"Description\" and all \"Value labels\" values\n",
    "            combined_string += str(group[\"Description\"].loc[i] + \" Response: \" + str(group[\"Value labels\"].loc[i]))\n",
    "            question_answers_list = question_answers_list + [combined_string]  # Extend the list with the combined strings\n",
    "    \n",
    "    else:question_answers_list = question_answers_list + [\"\"]  # Extend the list with the no answer\n",
    "\n",
    "    return question_answers_list\n",
    "\n",
    "# Group by \"Variable Label\\n (Data files)\" and apply the function to create the combined string\n",
    "for group in survey_questions.groupby(\"Variable Label\\n (Data files)\",sort=False):\n",
    "    question_answers_list = combine_description_and_labels(group[1], question_answers_list)\n",
    "survey_questions[\"question_answers_combined\"] = question_answers_list\n",
    "\n",
    "\n",
    "# Since the dataset has multiple rows per question for different value labels, we'll create a unique mapping\n",
    "# Create the new mapping dictionary\n",
    "question_adico_mapping = survey_questions[['question_answers_combined','ADICO Category',\"Variable Label\\n (Data files)\"]].drop_duplicates().set_index('question_answers_combined')\n",
    "\n",
    "# Filter out questions that are categorized as Attributes, Conditions, or Aims for clarity in analysis\n",
    "Attcons = survey_questions[survey_questions['ADICO Category'].isin([\"Attribute\", \"Condition\",'Aim/Condition', \"Attribute/Condition\"])]"
   ]
  },
  {
   "cell_type": "code",
   "execution_count": 85,
   "metadata": {},
   "outputs": [],
   "source": [
    "survey_data = pd.read_csv(\"dataverse_files\\Wave1\\SCALAR_Coastal_Longitudinal_Study_Wave_1_NL.csv\").set_index(\"ID\")\n",
    "\n",
    "# Convert the numerical values in survey_questions to integers\n",
    "Attcons[\"Values\"] = Attcons[\"Values\"].astype(int)\n",
    "\n",
    "# Create a mapping dictionary\n",
    "mapping_dict = dict(zip(zip(Attcons[\"Variable Label\\n (Data files)\"], Attcons[\"Values\"]), Attcons[\"Value labels\"]))\n",
    "\n",
    "for column in survey_data.columns:\n",
    "    if column in Attcons[\"Variable Label\\n (Data files)\"].unique():\n",
    "        try:\n",
    "            # Map numerical values to string labels using the created dictionary\n",
    "            survey_data[column] = survey_data[column].astype(int)  # Ensure Q0_gender is of integer type\n",
    "            survey_data[column] = survey_data[column].map(lambda x: mapping_dict.get((column, x)))\n",
    "        except: \"not suitable column\""
   ]
  },
  {
   "cell_type": "code",
   "execution_count": 86,
   "metadata": {},
   "outputs": [],
   "source": [
    "survey_data_list = []\n",
    "for column in survey_data.columns:\n",
    "    try:\n",
    "        survey_data_list += (survey_questions[survey_questions['Variable Label\\n (Data files)'] == column]['Description'].iat[0] + \" Given answer: \" + survey_data[column].astype(str)).to_list() \n",
    "    except: \"not str\"\n",
    "\n",
    "# Fit the BERTopic model\n",
    "topics, _ = topic_model.fit_transform(survey_data_list,)"
   ]
  },
  {
   "cell_type": "code",
   "execution_count": 87,
   "metadata": {},
   "outputs": [
    {
     "data": {
      "text/html": [
       "<div>\n",
       "<style scoped>\n",
       "    .dataframe tbody tr th:only-of-type {\n",
       "        vertical-align: middle;\n",
       "    }\n",
       "\n",
       "    .dataframe tbody tr th {\n",
       "        vertical-align: top;\n",
       "    }\n",
       "\n",
       "    .dataframe thead th {\n",
       "        text-align: right;\n",
       "    }\n",
       "</style>\n",
       "<table border=\"1\" class=\"dataframe\">\n",
       "  <thead>\n",
       "    <tr style=\"text-align: right;\">\n",
       "      <th></th>\n",
       "      <th>Topic</th>\n",
       "      <th>Count</th>\n",
       "      <th>Name</th>\n",
       "      <th>Representation</th>\n",
       "      <th>Representative_Docs</th>\n",
       "    </tr>\n",
       "  </thead>\n",
       "  <tbody>\n",
       "    <tr>\n",
       "      <th>0</th>\n",
       "      <td>-1</td>\n",
       "      <td>86</td>\n",
       "      <td>-1_option_describes_select_valves</td>\n",
       "      <td>[option, describes, select, valves, pipes, ant...</td>\n",
       "      <td>[Please select the option that describes your ...</td>\n",
       "    </tr>\n",
       "    <tr>\n",
       "      <th>1</th>\n",
       "      <td>0</td>\n",
       "      <td>1759</td>\n",
       "      <td>0_given_answer_flood_water</td>\n",
       "      <td>[given, answer, flood, water, andor, measure, ...</td>\n",
       "      <td>[Raising the level of the ground floor above t...</td>\n",
       "    </tr>\n",
       "    <tr>\n",
       "      <th>2</th>\n",
       "      <td>1</td>\n",
       "      <td>614</td>\n",
       "      <td>1_household_power_answer_given</td>\n",
       "      <td>[household, power, answer, given, savings, sup...</td>\n",
       "      <td>[How does your current TOTAL household savings...</td>\n",
       "    </tr>\n",
       "    <tr>\n",
       "      <th>3</th>\n",
       "      <td>2</td>\n",
       "      <td>380</td>\n",
       "      <td>2_yes_given_answer_organization</td>\n",
       "      <td>[yes, given, answer, organization, organizatio...</td>\n",
       "      <td>[Are you self-employed? Given answer: Yes, No ...</td>\n",
       "    </tr>\n",
       "    <tr>\n",
       "      <th>4</th>\n",
       "      <td>3</td>\n",
       "      <td>160</td>\n",
       "      <td>3_media_reasons_social_general</td>\n",
       "      <td>[media, reasons, social, general, wechat, weib...</td>\n",
       "      <td>[From social media (i.e. Facebook, Instagram, ...</td>\n",
       "    </tr>\n",
       "    <tr>\n",
       "      <th>5</th>\n",
       "      <td>4</td>\n",
       "      <td>80</td>\n",
       "      <td>4_climate_change_risks_following</td>\n",
       "      <td>[climate, change, risks, following, global, ac...</td>\n",
       "      <td>[There is a lot of discussion about global cli...</td>\n",
       "    </tr>\n",
       "    <tr>\n",
       "      <th>6</th>\n",
       "      <td>5</td>\n",
       "      <td>61</td>\n",
       "      <td>5_antibackflow_valves_pipes_installing</td>\n",
       "      <td>[antibackflow, valves, pipes, installing, stru...</td>\n",
       "      <td>[Installing anti-backflow valves on pipes Give...</td>\n",
       "    </tr>\n",
       "    <tr>\n",
       "      <th>7</th>\n",
       "      <td>6</td>\n",
       "      <td>40</td>\n",
       "      <td>6_identify_gender_age_female</td>\n",
       "      <td>[identify, gender, age, female, male, 5564, 65...</td>\n",
       "      <td>[What gender do you identify with? Given answe...</td>\n",
       "    </tr>\n",
       "    <tr>\n",
       "      <th>8</th>\n",
       "      <td>7</td>\n",
       "      <td>20</td>\n",
       "      <td>7_feeling_city_attachment_area</td>\n",
       "      <td>[feeling, city, attachment, area, given, answe...</td>\n",
       "      <td>[Feeling of attachment to the city/ area Given...</td>\n",
       "    </tr>\n",
       "  </tbody>\n",
       "</table>\n",
       "</div>"
      ],
      "text/plain": [
       "   Topic  Count                                    Name  \\\n",
       "0     -1     86       -1_option_describes_select_valves   \n",
       "1      0   1759              0_given_answer_flood_water   \n",
       "2      1    614          1_household_power_answer_given   \n",
       "3      2    380         2_yes_given_answer_organization   \n",
       "4      3    160          3_media_reasons_social_general   \n",
       "5      4     80        4_climate_change_risks_following   \n",
       "6      5     61  5_antibackflow_valves_pipes_installing   \n",
       "7      6     40            6_identify_gender_age_female   \n",
       "8      7     20          7_feeling_city_attachment_area   \n",
       "\n",
       "                                      Representation  \\\n",
       "0  [option, describes, select, valves, pipes, ant...   \n",
       "1  [given, answer, flood, water, andor, measure, ...   \n",
       "2  [household, power, answer, given, savings, sup...   \n",
       "3  [yes, given, answer, organization, organizatio...   \n",
       "4  [media, reasons, social, general, wechat, weib...   \n",
       "5  [climate, change, risks, following, global, ac...   \n",
       "6  [antibackflow, valves, pipes, installing, stru...   \n",
       "7  [identify, gender, age, female, male, 5564, 65...   \n",
       "8  [feeling, city, attachment, area, given, answe...   \n",
       "\n",
       "                                 Representative_Docs  \n",
       "0  [Please select the option that describes your ...  \n",
       "1  [Raising the level of the ground floor above t...  \n",
       "2  [How does your current TOTAL household savings...  \n",
       "3  [Are you self-employed? Given answer: Yes, No ...  \n",
       "4  [From social media (i.e. Facebook, Instagram, ...  \n",
       "5  [There is a lot of discussion about global cli...  \n",
       "6  [Installing anti-backflow valves on pipes Give...  \n",
       "7  [What gender do you identify with? Given answe...  \n",
       "8  [Feeling of attachment to the city/ area Given...  "
      ]
     },
     "execution_count": 87,
     "metadata": {},
     "output_type": "execute_result"
    }
   ],
   "source": [
    "topic_model.get_topic_info()"
   ]
  },
  {
   "cell_type": "code",
   "execution_count": 89,
   "metadata": {},
   "outputs": [
    {
     "data": {
      "text/plain": [
       "{'sequence': 'option describes select valves pipes antibackflow higher valuable elevated floors',\n",
       " 'labels': ['Procedural: Why, How, Activity or Topical Realm',\n",
       "  'Spatial: Where, Location or Direction',\n",
       "  'Temporal: When, Point in time or Time Frame'],\n",
       " 'scores': [0.4057141840457916, 0.30766525864601135, 0.2866205871105194]}"
      ]
     },
     "metadata": {},
     "output_type": "display_data"
    },
    {
     "data": {
      "text/plain": [
       "{'sequence': 'given answer flood water andor measure intend implement level floor',\n",
       " 'labels': ['Temporal: When, Point in time or Time Frame',\n",
       "  'Procedural: Why, How, Activity or Topical Realm',\n",
       "  'Spatial: Where, Location or Direction'],\n",
       " 'scores': [0.37263762950897217, 0.31447991728782654, 0.3128824830055237]}"
      ]
     },
     "metadata": {},
     "output_type": "display_data"
    },
    {
     "data": {
      "text/plain": [
       "{'sequence': 'household power answer given savings support current income spare buying',\n",
       " 'labels': ['Temporal: When, Point in time or Time Frame',\n",
       "  'Procedural: Why, How, Activity or Topical Realm',\n",
       "  'Spatial: Where, Location or Direction'],\n",
       " 'scores': [0.4157051146030426, 0.3279232978820801, 0.2563716769218445]}"
      ]
     },
     "metadata": {},
     "output_type": "display_data"
    },
    {
     "data": {
      "text/plain": [
       "{'sequence': 'yes given answer organization organizations club groups parent insurance single',\n",
       " 'labels': ['Temporal: When, Point in time or Time Frame',\n",
       "  'Procedural: Why, How, Activity or Topical Realm',\n",
       "  'Spatial: Where, Location or Direction'],\n",
       " 'scores': [0.4288536608219147, 0.3226414620876312, 0.2485048919916153]}"
      ]
     },
     "metadata": {},
     "output_type": "display_data"
    },
    {
     "data": {
      "text/plain": [
       "{'sequence': 'media reasons social general wechat weibo facebook instagram given answer',\n",
       " 'labels': ['Temporal: When, Point in time or Time Frame',\n",
       "  'Spatial: Where, Location or Direction',\n",
       "  'Procedural: Why, How, Activity or Topical Realm'],\n",
       " 'scores': [0.4300457239151001, 0.30918386578559875, 0.26077038049697876]}"
      ]
     },
     "metadata": {},
     "output_type": "display_data"
    },
    {
     "data": {
      "text/plain": [
       "{'sequence': 'climate change risks following global accurately early connection belief warning',\n",
       " 'labels': ['Temporal: When, Point in time or Time Frame',\n",
       "  'Procedural: Why, How, Activity or Topical Realm',\n",
       "  'Spatial: Where, Location or Direction'],\n",
       " 'scores': [0.4572080075740814, 0.2816258370876312, 0.26116621494293213]}"
      ]
     },
     "metadata": {},
     "output_type": "display_data"
    },
    {
     "data": {
      "text/plain": [
       "{'sequence': 'antibackflow valves pipes installing structural implement intend measure given answer',\n",
       " 'labels': ['Temporal: When, Point in time or Time Frame',\n",
       "  'Procedural: Why, How, Activity or Topical Realm',\n",
       "  'Spatial: Where, Location or Direction'],\n",
       " 'scores': [0.40084969997406006, 0.3003448247909546, 0.2988055348396301]}"
      ]
     },
     "metadata": {},
     "output_type": "display_data"
    },
    {
     "data": {
      "text/plain": [
       "{'sequence': 'identify gender age female male 5564 65 4554 given answer',\n",
       " 'labels': ['Temporal: When, Point in time or Time Frame',\n",
       "  'Procedural: Why, How, Activity or Topical Realm',\n",
       "  'Spatial: Where, Location or Direction'],\n",
       " 'scores': [0.5957229137420654, 0.21319955587387085, 0.1910775750875473]}"
      ]
     },
     "metadata": {},
     "output_type": "display_data"
    },
    {
     "data": {
      "text/plain": [
       "{'sequence': 'feeling city attachment area given answer    ',\n",
       " 'labels': ['Spatial: Where, Location or Direction',\n",
       "  'Temporal: When, Point in time or Time Frame',\n",
       "  'Procedural: Why, How, Activity or Topical Realm'],\n",
       " 'scores': [0.41320911049842834, 0.4000754654407501, 0.18671546876430511]}"
      ]
     },
     "metadata": {},
     "output_type": "display_data"
    }
   ],
   "source": [
    "from transformers import pipeline\n",
    "classifier = pipeline(\"zero-shot-classification\", model=\"facebook/bart-large-mnli\")\n",
    "\n",
    "for Topic in topic_model.get_topic_info()['Topic']:\n",
    "    # A selected topic representation\n",
    "    # 'god jesus atheists atheism belief atheist believe exist beliefs existence'\n",
    "    sequence_to_classify =  \" \".join([word for word, _ in topic_model.get_topic(Topic)])\n",
    "\n",
    "    # Our set of potential topic labels\n",
    "    candidate_labels = [\n",
    "    'Spatial: Where, Location or Direction',\n",
    "    'Temporal: When, Point in time or Time Frame',\n",
    "    'Procedural: Why, How, Activity or Topical Realm'\n",
    "]\n",
    "    display(classifier(sequence_to_classify, candidate_labels))"
   ]
  },
  {
   "cell_type": "code",
   "execution_count": 95,
   "metadata": {},
   "outputs": [
    {
     "data": {
      "text/plain": [
       "{'sequence': 'Keeping a working flashlight and/or a battery-operated radio and/or emergency kit in a convenient locationInstalling a refuge zone, or an opening in the roof of your home or apartment Response: 3',\n",
       " 'labels': ['Temporal: When, Point in time or Time Frame',\n",
       "  'Spatial: Where, Location or Direction',\n",
       "  'Procedural: Why, How, Activity or Topical Realm'],\n",
       " 'scores': [0.3889363408088684, 0.35511139035224915, 0.25595226883888245]}"
      ]
     },
     "metadata": {},
     "output_type": "display_data"
    },
    {
     "data": {
      "text/plain": [
       "{'sequence': 'Employer typeIndustry type Response: Restaurant services',\n",
       " 'labels': ['Procedural: Why, How, Activity or Topical Realm',\n",
       "  'Temporal: When, Point in time or Time Frame',\n",
       "  'Spatial: Where, Location or Direction'],\n",
       " 'scores': [0.49895039200782776, 0.2899942994117737, 0.21105524897575378]}"
      ]
     },
     "metadata": {},
     "output_type": "display_data"
    },
    {
     "data": {
      "text/plain": [
       "{'sequence': 'Are you self-employed? Response: No',\n",
       " 'labels': ['Temporal: When, Point in time or Time Frame',\n",
       "  'Procedural: Why, How, Activity or Topical Realm',\n",
       "  'Spatial: Where, Location or Direction'],\n",
       " 'scores': [0.5666679739952087, 0.2737065851688385, 0.15962545573711395]}"
      ]
     },
     "metadata": {},
     "output_type": "display_data"
    },
    {
     "data": {
      "text/plain": [
       "{'sequence': 'Raising the level of the ground floor above the most likely flood levelInstalling a pump and/or one or more system(s) to drain flood water Response: I intend to implement this structural measure in the next 6 months',\n",
       " 'labels': ['Temporal: When, Point in time or Time Frame',\n",
       "  'Procedural: Why, How, Activity or Topical Realm',\n",
       "  'Spatial: Where, Location or Direction'],\n",
       " 'scores': [0.819290816783905, 0.0928700789809227, 0.08783909678459167]}"
      ]
     },
     "metadata": {},
     "output_type": "display_data"
    },
    {
     "data": {
      "text/plain": [
       "{'sequence': \"No oneDon't know Response: Yes\",\n",
       " 'labels': ['Temporal: When, Point in time or Time Frame',\n",
       "  'Spatial: Where, Location or Direction',\n",
       "  'Procedural: Why, How, Activity or Topical Realm'],\n",
       " 'scores': [0.5193719267845154, 0.26384010910987854, 0.21678794920444489]}"
      ]
     },
     "metadata": {},
     "output_type": "display_data"
    },
    {
     "data": {
      "text/plain": [
       "{'sequence': 'Raising the level of the ground floor above the most likely flood levelFixing water barriers (e.g. water-proof basement windows) Response: I intend to implement this structural measure in the future, after 2 years',\n",
       " 'labels': ['Temporal: When, Point in time or Time Frame',\n",
       "  'Spatial: Where, Location or Direction',\n",
       "  'Procedural: Why, How, Activity or Topical Realm'],\n",
       " 'scores': [0.8373029828071594, 0.09192800521850586, 0.07076893746852875]}"
      ]
     },
     "metadata": {},
     "output_type": "display_data"
    },
    {
     "data": {
      "text/plain": [
       "{'sequence': 'Raising the level of the ground floor above the most likely flood levelInstalling a pump and/or one or more system(s) to drain flood water Response: 3',\n",
       " 'labels': ['Temporal: When, Point in time or Time Frame',\n",
       "  'Spatial: Where, Location or Direction',\n",
       "  'Procedural: Why, How, Activity or Topical Realm'],\n",
       " 'scores': [0.5732258558273315, 0.2272205799818039, 0.19955359399318695]}"
      ]
     },
     "metadata": {},
     "output_type": "display_data"
    },
    {
     "data": {
      "text/plain": [
       "{'sequence': 'Employer typeIndustry type Response: Construction',\n",
       " 'labels': ['Procedural: Why, How, Activity or Topical Realm',\n",
       "  'Temporal: When, Point in time or Time Frame',\n",
       "  'Spatial: Where, Location or Direction'],\n",
       " 'scores': [0.5424149036407471, 0.2619480788707733, 0.19563700258731842]}"
      ]
     },
     "metadata": {},
     "output_type": "display_data"
    },
    {
     "data": {
      "text/plain": [
       "{'sequence': 'Keeping a working flashlight and/or a battery-operated radio and/or emergency kit in a convenient locationAsking someone (local government, Civil Defense, etc.) for information about what to do in case of emergency Response: 5 - Very expensive',\n",
       " 'labels': ['Temporal: When, Point in time or Time Frame',\n",
       "  'Procedural: Why, How, Activity or Topical Realm',\n",
       "  'Spatial: Where, Location or Direction'],\n",
       " 'scores': [0.49666303396224976, 0.2744276225566864, 0.22890931367874146]}"
      ]
     },
     "metadata": {},
     "output_type": "display_data"
    },
    {
     "data": {
      "text/plain": [
       "{'sequence': 'Keeping a working flashlight and/or a battery-operated radio and/or emergency kit in a convenient locationBuying a spare power generator to power your home Response: 1 - I am unable',\n",
       " 'labels': ['Temporal: When, Point in time or Time Frame',\n",
       "  'Spatial: Where, Location or Direction',\n",
       "  'Procedural: Why, How, Activity or Topical Realm'],\n",
       " 'scores': [0.43018895387649536, 0.32772648334503174, 0.24208462238311768]}"
      ]
     },
     "metadata": {},
     "output_type": "display_data"
    }
   ],
   "source": [
    "from transformers import pipeline\n",
    "import numpy as np\n",
    "\n",
    "# Initialize the zero-shot classification pipeline\n",
    "classifier = pipeline(\"zero-shot-classification\", model=\"facebook/bart-large-mnli\")\n",
    "\n",
    "# Define the candidate labels\n",
    "candidate_labels = [\n",
    "    'Spatial: Where, Location or Direction',\n",
    "    'Temporal: When, Point in time or Time Frame',\n",
    "    'Procedural: Why, How, Activity or Topical Realm'\n",
    "]\n",
    "\n",
    "# Initialize an empty list to store the predicted labels\n",
    "predicted_labels = []\n",
    "\n",
    "# Loop through each question in the 'Description' column of Attcons\n",
    "for question in Attcons['question_answers_combined'].sample(n=10):\n",
    "    # Classify the question using zero-shot classification\n",
    "    classification_result = classifier(question, candidate_labels)\n",
    "    display(classification_result)\n",
    "#     # Get the label with the highest score\n",
    "#     highest_score_index = np.argmax(classification_result[\"scores\"])\n",
    "#     predicted_label = classification_result[\"labels\"][highest_score_index]\n",
    "    \n",
    "#     # Append the predicted label to the list\n",
    "#     predicted_labels.append(predicted_label)\n",
    "\n",
    "# # Add the predicted labels as a new column to the Attcons DataFrame\n",
    "# Attcons[\"Predicted_Label\"] = predicted_labels"
   ]
  },
  {
   "cell_type": "code",
   "execution_count": 94,
   "metadata": {},
   "outputs": [
    {
     "data": {
      "text/plain": [
       "{'sequence': 'Age',\n",
       " 'labels': ['Temporal: When, Point in time or Time Frame',\n",
       "  'Spatial: Where, Location or Direction',\n",
       "  'Procedural: Why, How, Activity or Topical Realm'],\n",
       " 'scores': [0.5577120184898376, 0.24851831793785095, 0.19376972317695618]}"
      ]
     },
     "execution_count": 94,
     "metadata": {},
     "output_type": "execute_result"
    }
   ],
   "source": [
    "classification_result"
   ]
  },
  {
   "cell_type": "code",
   "execution_count": 77,
   "metadata": {},
   "outputs": [],
   "source": [
    "import numpy as np\n",
    "import pandas as pd\n",
    "import spacy\n",
    "\n",
    "# Load pre-trained word embeddings model (you can use any suitable model)\n",
    "nlp = spacy.load(\"en_core_web_md\")\n",
    "\n",
    "# Define the categories\n",
    "categories = [\n",
    "    'Spatial: Where, Location or Direction',\n",
    "    'Temporal: When, Point in time or Time Frame',\n",
    "    'Procedural: Why, How, Activity or Topical Realm'\n",
    "]\n",
    "\n",
    "# Calculate the average word embedding for each category\n",
    "category_embeddings = {}\n",
    "for category in categories:\n",
    "    category_doc = nlp(category)\n",
    "    category_embedding = np.mean([token.vector for token in category_doc if token.has_vector], axis=0)\n",
    "    category_embeddings[category] = category_embedding\n",
    "\n",
    "# Process each survey question and calculate its average word embedding\n",
    "word_embeddings = []\n",
    "for question in Attcons['question_answers_combined']:\n",
    "    doc = nlp(question)\n",
    "    question_embedding = np.mean([token.vector for token in doc if token.has_vector], axis=0)\n",
    "    word_embeddings.append(question_embedding)\n",
    "\n",
    "# Calculate the similarity between each question embedding and each category embedding\n",
    "similarities = np.array([[np.dot(question_embedding, category_embedding) /\n",
    "                          (np.linalg.norm(question_embedding) * np.linalg.norm(category_embedding))\n",
    "                          for category_embedding in category_embeddings.values()]\n",
    "                         for question_embedding in word_embeddings])\n",
    "\n",
    "# Assign each question to the category with the highest similarity score\n",
    "question_categories = [categories[np.argmax(similarity)] for similarity in similarities]"
   ]
  },
  {
   "cell_type": "code",
   "execution_count": 78,
   "metadata": {},
   "outputs": [
    {
     "data": {
      "text/html": [
       "<div>\n",
       "<style scoped>\n",
       "    .dataframe tbody tr th:only-of-type {\n",
       "        vertical-align: middle;\n",
       "    }\n",
       "\n",
       "    .dataframe tbody tr th {\n",
       "        vertical-align: top;\n",
       "    }\n",
       "\n",
       "    .dataframe thead th {\n",
       "        text-align: right;\n",
       "    }\n",
       "</style>\n",
       "<table border=\"1\" class=\"dataframe\">\n",
       "  <thead>\n",
       "    <tr style=\"text-align: right;\">\n",
       "      <th></th>\n",
       "      <th>ADICO Category</th>\n",
       "      <th>Question number\\n (Questionnaire file)</th>\n",
       "      <th>Variable Label\\n (Data files)</th>\n",
       "      <th>Description</th>\n",
       "      <th>Values</th>\n",
       "      <th>Value labels</th>\n",
       "      <th>question_answers_combined</th>\n",
       "      <th>category</th>\n",
       "    </tr>\n",
       "  </thead>\n",
       "  <tbody>\n",
       "    <tr>\n",
       "      <th>Q0_age_1.0</th>\n",
       "      <td>Attribute</td>\n",
       "      <td>Q0_age</td>\n",
       "      <td>Q0_age</td>\n",
       "      <td>Age</td>\n",
       "      <td>1.0</td>\n",
       "      <td>16-24</td>\n",
       "      <td>Age Response: 16-24</td>\n",
       "      <td>Temporal: When, Point in time or Time Frame</td>\n",
       "    </tr>\n",
       "    <tr>\n",
       "      <th>Q0_age_2.0</th>\n",
       "      <td>Attribute</td>\n",
       "      <td>Q0_age</td>\n",
       "      <td>Q0_age</td>\n",
       "      <td>Age</td>\n",
       "      <td>2.0</td>\n",
       "      <td>25-34</td>\n",
       "      <td>Age Response: 16-24Age Response: 25-34</td>\n",
       "      <td>Spatial: Where, Location or Direction</td>\n",
       "    </tr>\n",
       "    <tr>\n",
       "      <th>Q0_age_3.0</th>\n",
       "      <td>Attribute</td>\n",
       "      <td>Q0_age</td>\n",
       "      <td>Q0_age</td>\n",
       "      <td>Age</td>\n",
       "      <td>3.0</td>\n",
       "      <td>35-44</td>\n",
       "      <td>Age Response: 16-24Age Response: 25-34Age Resp...</td>\n",
       "      <td>Spatial: Where, Location or Direction</td>\n",
       "    </tr>\n",
       "    <tr>\n",
       "      <th>Q0_age_4.0</th>\n",
       "      <td>Attribute</td>\n",
       "      <td>Q0_age</td>\n",
       "      <td>Q0_age</td>\n",
       "      <td>Age</td>\n",
       "      <td>4.0</td>\n",
       "      <td>45-54</td>\n",
       "      <td>Age Response: 16-24Age Response: 25-34Age Resp...</td>\n",
       "      <td>Spatial: Where, Location or Direction</td>\n",
       "    </tr>\n",
       "    <tr>\n",
       "      <th>Q0_age_5.0</th>\n",
       "      <td>Attribute</td>\n",
       "      <td>Q0_age</td>\n",
       "      <td>Q0_age</td>\n",
       "      <td>Age</td>\n",
       "      <td>5.0</td>\n",
       "      <td>55-64</td>\n",
       "      <td>Age Response: 16-24Age Response: 25-34Age Resp...</td>\n",
       "      <td>Spatial: Where, Location or Direction</td>\n",
       "    </tr>\n",
       "    <tr>\n",
       "      <th>...</th>\n",
       "      <td>...</td>\n",
       "      <td>...</td>\n",
       "      <td>...</td>\n",
       "      <td>...</td>\n",
       "      <td>...</td>\n",
       "      <td>...</td>\n",
       "      <td>...</td>\n",
       "      <td>...</td>\n",
       "    </tr>\n",
       "    <tr>\n",
       "      <th>Q60a_parent_0.0</th>\n",
       "      <td>Condition</td>\n",
       "      <td>Q60a</td>\n",
       "      <td>Q60a_parent</td>\n",
       "      <td>Are you the parent or guardian of any children...</td>\n",
       "      <td>0.0</td>\n",
       "      <td>No</td>\n",
       "      <td>Are you the parent or guardian of any children...</td>\n",
       "      <td>Spatial: Where, Location or Direction</td>\n",
       "    </tr>\n",
       "    <tr>\n",
       "      <th>Q60a_parent_1.0</th>\n",
       "      <td>Condition</td>\n",
       "      <td>Q60a</td>\n",
       "      <td>Q60a_parent</td>\n",
       "      <td>Are you the parent or guardian of any children...</td>\n",
       "      <td>1.0</td>\n",
       "      <td>Yes</td>\n",
       "      <td>Are you the parent or guardian of any children...</td>\n",
       "      <td>Spatial: Where, Location or Direction</td>\n",
       "    </tr>\n",
       "    <tr>\n",
       "      <th>Q61_single_parent_0.0</th>\n",
       "      <td>Condition</td>\n",
       "      <td>Q61</td>\n",
       "      <td>Q61_single_parent</td>\n",
       "      <td>Are you a single parent?</td>\n",
       "      <td>0.0</td>\n",
       "      <td>No</td>\n",
       "      <td>Are you a single parent? Response: No</td>\n",
       "      <td>Procedural: Why, How, Activity or Topical Realm</td>\n",
       "    </tr>\n",
       "    <tr>\n",
       "      <th>Q61_single_parent_1.0</th>\n",
       "      <td>Condition</td>\n",
       "      <td>Q61</td>\n",
       "      <td>Q61_single_parent</td>\n",
       "      <td>Are you a single parent?</td>\n",
       "      <td>1.0</td>\n",
       "      <td>Yes</td>\n",
       "      <td>Are you a single parent? Response: NoAre you a...</td>\n",
       "      <td>Procedural: Why, How, Activity or Topical Realm</td>\n",
       "    </tr>\n",
       "    <tr>\n",
       "      <th>Q61_single_parent_99.0</th>\n",
       "      <td>Condition</td>\n",
       "      <td>Q61</td>\n",
       "      <td>Q61_single_parent</td>\n",
       "      <td>Are you a single parent?</td>\n",
       "      <td>99.0</td>\n",
       "      <td>Prefer not to say</td>\n",
       "      <td>Are you a single parent? Response: NoAre you a...</td>\n",
       "      <td>Procedural: Why, How, Activity or Topical Realm</td>\n",
       "    </tr>\n",
       "  </tbody>\n",
       "</table>\n",
       "<p>939 rows × 8 columns</p>\n",
       "</div>"
      ],
      "text/plain": [
       "                       ADICO Category Question number\\n (Questionnaire file)  \\\n",
       "Q0_age_1.0                  Attribute                                 Q0_age   \n",
       "Q0_age_2.0                  Attribute                                 Q0_age   \n",
       "Q0_age_3.0                  Attribute                                 Q0_age   \n",
       "Q0_age_4.0                  Attribute                                 Q0_age   \n",
       "Q0_age_5.0                  Attribute                                 Q0_age   \n",
       "...                               ...                                    ...   \n",
       "Q60a_parent_0.0             Condition                                   Q60a   \n",
       "Q60a_parent_1.0             Condition                                   Q60a   \n",
       "Q61_single_parent_0.0       Condition                                    Q61   \n",
       "Q61_single_parent_1.0       Condition                                    Q61   \n",
       "Q61_single_parent_99.0      Condition                                    Q61   \n",
       "\n",
       "                       Variable Label\\n (Data files)  \\\n",
       "Q0_age_1.0                                    Q0_age   \n",
       "Q0_age_2.0                                    Q0_age   \n",
       "Q0_age_3.0                                    Q0_age   \n",
       "Q0_age_4.0                                    Q0_age   \n",
       "Q0_age_5.0                                    Q0_age   \n",
       "...                                              ...   \n",
       "Q60a_parent_0.0                          Q60a_parent   \n",
       "Q60a_parent_1.0                          Q60a_parent   \n",
       "Q61_single_parent_0.0              Q61_single_parent   \n",
       "Q61_single_parent_1.0              Q61_single_parent   \n",
       "Q61_single_parent_99.0             Q61_single_parent   \n",
       "\n",
       "                                                              Description  \\\n",
       "Q0_age_1.0                                                            Age   \n",
       "Q0_age_2.0                                                            Age   \n",
       "Q0_age_3.0                                                            Age   \n",
       "Q0_age_4.0                                                            Age   \n",
       "Q0_age_5.0                                                            Age   \n",
       "...                                                                   ...   \n",
       "Q60a_parent_0.0         Are you the parent or guardian of any children...   \n",
       "Q60a_parent_1.0         Are you the parent or guardian of any children...   \n",
       "Q61_single_parent_0.0                            Are you a single parent?   \n",
       "Q61_single_parent_1.0                            Are you a single parent?   \n",
       "Q61_single_parent_99.0                           Are you a single parent?   \n",
       "\n",
       "                        Values       Value labels  \\\n",
       "Q0_age_1.0                 1.0              16-24   \n",
       "Q0_age_2.0                 2.0              25-34   \n",
       "Q0_age_3.0                 3.0              35-44   \n",
       "Q0_age_4.0                 4.0              45-54   \n",
       "Q0_age_5.0                 5.0              55-64   \n",
       "...                        ...                ...   \n",
       "Q60a_parent_0.0            0.0                 No   \n",
       "Q60a_parent_1.0            1.0                Yes   \n",
       "Q61_single_parent_0.0      0.0                 No   \n",
       "Q61_single_parent_1.0      1.0                Yes   \n",
       "Q61_single_parent_99.0    99.0  Prefer not to say   \n",
       "\n",
       "                                                question_answers_combined  \\\n",
       "Q0_age_1.0                                            Age Response: 16-24   \n",
       "Q0_age_2.0                         Age Response: 16-24Age Response: 25-34   \n",
       "Q0_age_3.0              Age Response: 16-24Age Response: 25-34Age Resp...   \n",
       "Q0_age_4.0              Age Response: 16-24Age Response: 25-34Age Resp...   \n",
       "Q0_age_5.0              Age Response: 16-24Age Response: 25-34Age Resp...   \n",
       "...                                                                   ...   \n",
       "Q60a_parent_0.0         Are you the parent or guardian of any children...   \n",
       "Q60a_parent_1.0         Are you the parent or guardian of any children...   \n",
       "Q61_single_parent_0.0               Are you a single parent? Response: No   \n",
       "Q61_single_parent_1.0   Are you a single parent? Response: NoAre you a...   \n",
       "Q61_single_parent_99.0  Are you a single parent? Response: NoAre you a...   \n",
       "\n",
       "                                                               category  \n",
       "Q0_age_1.0                  Temporal: When, Point in time or Time Frame  \n",
       "Q0_age_2.0                        Spatial: Where, Location or Direction  \n",
       "Q0_age_3.0                        Spatial: Where, Location or Direction  \n",
       "Q0_age_4.0                        Spatial: Where, Location or Direction  \n",
       "Q0_age_5.0                        Spatial: Where, Location or Direction  \n",
       "...                                                                 ...  \n",
       "Q60a_parent_0.0                   Spatial: Where, Location or Direction  \n",
       "Q60a_parent_1.0                   Spatial: Where, Location or Direction  \n",
       "Q61_single_parent_0.0   Procedural: Why, How, Activity or Topical Realm  \n",
       "Q61_single_parent_1.0   Procedural: Why, How, Activity or Topical Realm  \n",
       "Q61_single_parent_99.0  Procedural: Why, How, Activity or Topical Realm  \n",
       "\n",
       "[939 rows x 8 columns]"
      ]
     },
     "execution_count": 78,
     "metadata": {},
     "output_type": "execute_result"
    }
   ],
   "source": [
    "Attcons['category'] = question_categories\n",
    "# question_categories\n",
    "Attcons"
   ]
  }
 ],
 "metadata": {
  "kernelspec": {
   "display_name": "Python 3",
   "language": "python",
   "name": "python3"
  },
  "language_info": {
   "codemirror_mode": {
    "name": "ipython",
    "version": 3
   },
   "file_extension": ".py",
   "mimetype": "text/x-python",
   "name": "python",
   "nbconvert_exporter": "python",
   "pygments_lexer": "ipython3",
   "version": "3.11.5"
  }
 },
 "nbformat": 4,
 "nbformat_minor": 2
}
