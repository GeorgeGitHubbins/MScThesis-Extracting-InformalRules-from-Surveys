{
 "cells": [
  {
   "cell_type": "code",
   "execution_count": 8,
   "metadata": {},
   "outputs": [],
   "source": [
    "import ollama\n",
    "import sys\n",
    "import csv\n",
    "import pandas as pd"
   ]
  },
  {
   "cell_type": "code",
   "execution_count": 9,
   "metadata": {},
   "outputs": [],
   "source": [
    "# Define a function to replace \"not numbered\" with the value in \"Variable Label\"\n",
    "def replace_not_numbered(row):\n",
    "    if row[\"Question number\\n (Questionnaire file)\"] == \"not numbered\":\n",
    "        return row[\"Variable Label\\n (Data files)\"]\n",
    "    else:\n",
    "        return row[\"Question number\\n (Questionnaire file)\"]\n",
    "    \n",
    "survey_questions  = pd.read_excel('Survey Questions Overview.xlsx', sheet_name='Wave 1', engine='openpyxl')\n",
    "# Clean the survey questions dataframe to make it more usable for mapping\n",
    "# Fill forward non-null ADICO Category values to apply them to all relevant rows, Specify the columns to forward fill excluding \"Values\" and \"Value labels\"\n",
    "columns_to_ffill = [col for col in survey_questions.columns if col not in [\"Values\", \"Value labels\"]]\n",
    "\n",
    "# Forward fill the specified columns\n",
    "survey_questions[columns_to_ffill] = survey_questions[columns_to_ffill].ffill()\n",
    "\n",
    "\n",
    "# Apply the function to replace \"not numbered\" with the value in \"Variable Label\"\n",
    "survey_questions[\"Question number\\n (Questionnaire file)\"] = survey_questions.apply(replace_not_numbered, axis=1)\n",
    "\n",
    "\n",
    "# Set the index to {value of \"Question number\\n (Questionnaire file)\"} + \"_\" + {str(value of \"Values\")}\n",
    "survey_questions.set_index(survey_questions[\"Variable Label\\n (Data files)\"] + \"_\" + survey_questions[\"Values\"].astype(str), inplace=True)\n",
    "survey_questions.drop(\"ID_nan\", inplace=True)\n",
    "\n",
    "question_answers_list = []\n",
    "# Define a function to create the combined string\n",
    "def combine_description_and_labels(group, question_answers_list, qnum):\n",
    "    question_subset = survey_questions[survey_questions[\"Question number\\n (Questionnaire file)\"] == group[\"Question number\\n (Questionnaire file)\"].iloc[0]]\n",
    "    # Check if it's the first row instance with the current \"Question number\\n (Questionnaire file)\" column value\n",
    "    first_instance_index = question_subset[question_subset.duplicated(subset=[\"Question number\\n (Questionnaire file)\"], keep=\"first\")].index\n",
    "    combined_string = \"\"\n",
    "    if first_instance_index.size != 0:\n",
    "        first_description = question_subset[\"Description\"].iloc[0]\n",
    "        if first_description != group[\"Description\"].iloc[0]:\n",
    "         # If not the first instance, start with the first instance's \"Description\" column value\n",
    "            combined_string += first_description\n",
    "    # Concatenate the current row's \"Description\" and all \"Value labels\" values\n",
    "    combined_string += str(group[\"Description\"].iloc[0]) #+ \" \" + \"; \".join(group[\"Value labels\"].astype(str))\n",
    "    question_answers_list = question_answers_list + [combined_string] * group.shape[0]  # Extend the list with the combined strings\n",
    "    return question_answers_list\n",
    "\n",
    "# Group by \"Variable Label\\n (Data files)\" and apply the function to create the combined string\n",
    "for group in survey_questions.groupby(\"Variable Label\\n (Data files)\",sort=False):\n",
    "    question_answers_list = combine_description_and_labels(group[1], question_answers_list, group[1][\"Question number\\n (Questionnaire file)\"].iloc[0])\n",
    "survey_questions[\"question_answers_combined\"] = question_answers_list\n"
   ]
  },
  {
   "cell_type": "code",
   "execution_count": 10,
   "metadata": {},
   "outputs": [
    {
     "data": {
      "text/plain": [
       "'Q31a_media_trust'"
      ]
     },
     "execution_count": 10,
     "metadata": {},
     "output_type": "execute_result"
    }
   ],
   "source": [
    "survey_questions['Variable Label\\n (Data files)'].iat[330]"
   ]
  },
  {
   "cell_type": "code",
   "execution_count": 53,
   "metadata": {},
   "outputs": [
    {
     "data": {
      "text/html": [
       "<div>\n",
       "<style scoped>\n",
       "    .dataframe tbody tr th:only-of-type {\n",
       "        vertical-align: middle;\n",
       "    }\n",
       "\n",
       "    .dataframe tbody tr th {\n",
       "        vertical-align: top;\n",
       "    }\n",
       "\n",
       "    .dataframe thead th {\n",
       "        text-align: right;\n",
       "    }\n",
       "</style>\n",
       "<table border=\"1\" class=\"dataframe\">\n",
       "  <thead>\n",
       "    <tr style=\"text-align: right;\">\n",
       "      <th></th>\n",
       "      <th>Aim</th>\n",
       "      <th>Aim_resp</th>\n",
       "      <th>filter1</th>\n",
       "      <th>Condition</th>\n",
       "      <th>Threshold</th>\n",
       "      <th>filter2</th>\n",
       "      <th>Condition_resp</th>\n",
       "    </tr>\n",
       "  </thead>\n",
       "  <tbody>\n",
       "    <tr>\n",
       "      <th>0</th>\n",
       "      <td>How frequently do you read information about f...</td>\n",
       "      <td>1 - Very infrequently</td>\n",
       "      <td>16.0</td>\n",
       "      <td>How often do you think a flood occurs on the p...</td>\n",
       "      <td>2.5</td>\n",
       "      <td>13.0</td>\n",
       "      <td>My house is completely safe</td>\n",
       "    </tr>\n",
       "    <tr>\n",
       "      <th>1</th>\n",
       "      <td>Please indicate if you have already implemente...</td>\n",
       "      <td>I have already implemented this non-structural...</td>\n",
       "      <td>15.0</td>\n",
       "      <td>Please indicate if you have already implemente...</td>\n",
       "      <td>3.5</td>\n",
       "      <td>3.0</td>\n",
       "      <td>I have already implemented this structural mea...</td>\n",
       "    </tr>\n",
       "    <tr>\n",
       "      <th>2</th>\n",
       "      <td>Please indicate if you have already implemente...</td>\n",
       "      <td>I have already implemented this non-structural...</td>\n",
       "      <td>15.0</td>\n",
       "      <td>Please indicate if you have already implemente...</td>\n",
       "      <td>3.5</td>\n",
       "      <td>3.0</td>\n",
       "      <td>I have already implemented this structural mea...</td>\n",
       "    </tr>\n",
       "    <tr>\n",
       "      <th>3</th>\n",
       "      <td>Please indicate if you have already implemente...</td>\n",
       "      <td>I have already implemented this non-structural...</td>\n",
       "      <td>15.0</td>\n",
       "      <td>Please indicate if you have already implemente...</td>\n",
       "      <td>3.5</td>\n",
       "      <td>3.0</td>\n",
       "      <td>I have already implemented this structural mea...</td>\n",
       "    </tr>\n",
       "    <tr>\n",
       "      <th>4</th>\n",
       "      <td>Please indicate if you have already implemente...</td>\n",
       "      <td>I have already implemented this non-structural...</td>\n",
       "      <td>15.0</td>\n",
       "      <td>Please indicate if you have already implemente...</td>\n",
       "      <td>3.5</td>\n",
       "      <td>3.0</td>\n",
       "      <td>I have already implemented this structural mea...</td>\n",
       "    </tr>\n",
       "    <tr>\n",
       "      <th>5</th>\n",
       "      <td>Please indicate if you have already implemente...</td>\n",
       "      <td>I do not intend to implement this non-structur...</td>\n",
       "      <td>11.0</td>\n",
       "      <td>Please indicate if you have already implemente...</td>\n",
       "      <td>3.5</td>\n",
       "      <td>9.0</td>\n",
       "      <td>I have already implemented this non-structural...</td>\n",
       "    </tr>\n",
       "    <tr>\n",
       "      <th>6</th>\n",
       "      <td>Please indicate if you have already implemente...</td>\n",
       "      <td>I have already implemented this structural mea...</td>\n",
       "      <td>17.0</td>\n",
       "      <td>Please indicate if you have already implemente...</td>\n",
       "      <td>3.5</td>\n",
       "      <td>2.0</td>\n",
       "      <td>I have already implemented this structural mea...</td>\n",
       "    </tr>\n",
       "  </tbody>\n",
       "</table>\n",
       "</div>"
      ],
      "text/plain": [
       "                                                 Aim  \\\n",
       "0  How frequently do you read information about f...   \n",
       "1  Please indicate if you have already implemente...   \n",
       "2  Please indicate if you have already implemente...   \n",
       "3  Please indicate if you have already implemente...   \n",
       "4  Please indicate if you have already implemente...   \n",
       "5  Please indicate if you have already implemente...   \n",
       "6  Please indicate if you have already implemente...   \n",
       "\n",
       "                                            Aim_resp  filter1  \\\n",
       "0                              1 - Very infrequently     16.0   \n",
       "1  I have already implemented this non-structural...     15.0   \n",
       "2  I have already implemented this non-structural...     15.0   \n",
       "3  I have already implemented this non-structural...     15.0   \n",
       "4  I have already implemented this non-structural...     15.0   \n",
       "5  I do not intend to implement this non-structur...     11.0   \n",
       "6  I have already implemented this structural mea...     17.0   \n",
       "\n",
       "                                           Condition  Threshold  filter2  \\\n",
       "0  How often do you think a flood occurs on the p...        2.5     13.0   \n",
       "1  Please indicate if you have already implemente...        3.5      3.0   \n",
       "2  Please indicate if you have already implemente...        3.5      3.0   \n",
       "3  Please indicate if you have already implemente...        3.5      3.0   \n",
       "4  Please indicate if you have already implemente...        3.5      3.0   \n",
       "5  Please indicate if you have already implemente...        3.5      9.0   \n",
       "6  Please indicate if you have already implemente...        3.5      2.0   \n",
       "\n",
       "                                      Condition_resp  \n",
       "0                        My house is completely safe  \n",
       "1  I have already implemented this structural mea...  \n",
       "2  I have already implemented this structural mea...  \n",
       "3  I have already implemented this structural mea...  \n",
       "4  I have already implemented this structural mea...  \n",
       "5  I have already implemented this non-structural...  \n",
       "6  I have already implemented this structural mea...  "
      ]
     },
     "execution_count": 53,
     "metadata": {},
     "output_type": "execute_result"
    }
   ],
   "source": [
    "selected_statements = pd.read_csv('tree_selected _statements.csv')\n",
    "selected_statements['Aim'] = [survey_questions[survey_questions['Variable Label\\n (Data files)'] == aim]['question_answers_combined'].iat[0] for aim in list(selected_statements['Aim'])]\n",
    "selected_statements['Condition_resp'] = [survey_questions[survey_questions['Variable Label\\n (Data files)'] == condition]['Value labels'].iat[0] for condition in list(selected_statements['Condition'])]\n",
    "selected_statements['Condition'] = [survey_questions[survey_questions['Variable Label\\n (Data files)'] == condition]['question_answers_combined'].iat[0] for condition in list(selected_statements['Condition'])]\n",
    "\n",
    "selected_statements\n",
    "\n",
    "# selected_statements.at[0,'Condition']"
   ]
  },
  {
   "cell_type": "code",
   "execution_count": 54,
   "metadata": {},
   "outputs": [],
   "source": [
    "def IGMaker(row):\n",
    "    aim = row['Aim']\n",
    "    aim_resp = row['Aim_resp']\n",
    "    condition = row['Condition']\n",
    "    condition_resp = row['Condition_resp']\n",
    "\n",
    "    prompt = f\"\"\"The answer to the (action) question '{aim}' is '{aim_resp}', if the answer to the (condition) question '{condition}' is '{condition_resp}'. \n",
    "                Rewrite this information in a statement in the form of: \n",
    "                'Households will do x action if y condition'\n",
    "                \"\"\"\n",
    "\n",
    "    response = ollama.chat(model='mistral', messages=[{\n",
    "        'role':'user',\n",
    "        'content': prompt    \n",
    "        },\n",
    "        ])\n",
    "    return response['message']['content']\n",
    "\n",
    "selected_statements[\"IG_statements\"] = selected_statements.apply(lambda row: IGMaker(row), axis=1)"
   ]
  },
  {
   "cell_type": "code",
   "execution_count": 57,
   "metadata": {},
   "outputs": [
    {
     "name": "stdout",
     "output_type": "stream",
     "text": [
      " Households will infrequently read information about flooding and other hazards from general media if they believe that their property is completely safe.\n",
      " Households will indicate having implemented community safety involvement if they have already installed anti-backflow valves on pipes.\n",
      " Households will indicate having implemented the non-structural measure of being an active community group member for safety if they have already implemented structural measures such as installing a pump and/or one or more drainage systems.\n",
      " Households will indicate having implemented community safety involvement if they have already fixed water barriers (structural measure) is not applicable. If they have already implemented being an active member in a community group aimed at making the community safer (non-structural measure), then the statement is: \"Households will indicate 'I have already implemented this non-structural measure' if they have engaged in community safety initiatives.\"\n",
      " Households will indicate having implemented community safety measures if they have already raised their electricity meters above the most likely flood level or placed them on an upper floor, and have been members of a community group aimed at making the community safer.\n",
      " Households will not coordinate with neighbors for flood response if they have already stored emergency food and water supplies.\n",
      " Households will implement reconstructing or reinforcing walls and/or ground floors with water-resistant materials if they have already raised the level of the ground floor above the most likely flood level.\n"
     ]
    },
    {
     "data": {
      "text/plain": [
       "[None, None, None, None, None, None, None]"
      ]
     },
     "execution_count": 57,
     "metadata": {},
     "output_type": "execute_result"
    }
   ],
   "source": [
    "[print(statement) for statement in list(selected_statements['IG_statements'])]"
   ]
  },
  {
   "cell_type": "code",
   "execution_count": 41,
   "metadata": {},
   "outputs": [
    {
     "data": {
      "text/plain": [
       "{'model': 'mistral',\n",
       " 'created_at': '2024-04-24T13:02:03.9408155Z',\n",
       " 'message': {'role': 'assistant',\n",
       "  'content': ' Households will infrequently read information about flooding and other hazards from general media if they believe that a flood occurring on their property is a very infrequent occurrence.'},\n",
       " 'done': True,\n",
       " 'total_duration': 24020756800,\n",
       " 'load_duration': 1560100,\n",
       " 'prompt_eval_count': 134,\n",
       " 'prompt_eval_duration': 16795941000,\n",
       " 'eval_count': 38,\n",
       " 'eval_duration': 7219703000}"
      ]
     },
     "execution_count": 41,
     "metadata": {},
     "output_type": "execute_result"
    }
   ],
   "source": []
  },
  {
   "cell_type": "code",
   "execution_count": 27,
   "metadata": {},
   "outputs": [
    {
     "data": {
      "text/plain": [
       "{'model': 'mistral',\n",
       " 'created_at': '2024-04-24T12:52:13.6623948Z',\n",
       " 'message': {'role': 'assistant',\n",
       "  'content': ' He or she seldom engages with media content concerning flooding and other hazards.'},\n",
       " 'done': True,\n",
       " 'total_duration': 4839265900,\n",
       " 'load_duration': 2057000,\n",
       " 'prompt_eval_count': 11,\n",
       " 'prompt_eval_duration': 1349573000,\n",
       " 'eval_count': 19,\n",
       " 'eval_duration': 3485178000}"
      ]
     },
     "execution_count": 27,
     "metadata": {},
     "output_type": "execute_result"
    }
   ],
   "source": []
  }
 ],
 "metadata": {
  "kernelspec": {
   "display_name": "Python 3",
   "language": "python",
   "name": "python3"
  },
  "language_info": {
   "codemirror_mode": {
    "name": "ipython",
    "version": 3
   },
   "file_extension": ".py",
   "mimetype": "text/x-python",
   "name": "python",
   "nbconvert_exporter": "python",
   "pygments_lexer": "ipython3",
   "version": "3.11.5"
  }
 },
 "nbformat": 4,
 "nbformat_minor": 2
}
